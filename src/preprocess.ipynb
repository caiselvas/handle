{
 "cells": [
  {
   "cell_type": "code",
   "execution_count": 1,
   "metadata": {},
   "outputs": [],
   "source": [
    "import pandas as pd\n",
    "import os"
   ]
  },
  {
   "cell_type": "markdown",
   "metadata": {},
   "source": [
    "# Images folder"
   ]
  },
  {
   "cell_type": "code",
   "execution_count": 2,
   "metadata": {},
   "outputs": [
    {
     "name": "stdout",
     "output_type": "stream",
     "text": [
      " Number of images in the folder: 68013\n"
     ]
    }
   ],
   "source": [
    "# Number of images in the folder\n",
    "image_folder = \"../data/archive/images/images\"\n",
    "image_count = len([name for name in os.listdir(image_folder) if os.path.isfile(os.path.join(image_folder, name))])\n",
    "print(f\" Number of images in the folder: {image_count}\")"
   ]
  },
  {
   "cell_type": "markdown",
   "metadata": {},
   "source": [
    "# Attribute data"
   ]
  },
  {
   "cell_type": "code",
   "execution_count": 3,
   "metadata": {},
   "outputs": [],
   "source": [
    "attrib_data = pd.read_csv(\"../data/archive/attribute_data.csv\")"
   ]
  },
  {
   "cell_type": "code",
   "execution_count": 4,
   "metadata": {},
   "outputs": [
    {
     "name": "stdout",
     "output_type": "stream",
     "text": [
      "<class 'pandas.core.frame.DataFrame'>\n",
      "RangeIndex: 151112 entries, 0 to 151111\n",
      "Data columns (total 4 columns):\n",
      " #   Column            Non-Null Count   Dtype \n",
      "---  ------            --------------   ----- \n",
      " 0   cod_modelo_color  151112 non-null  object\n",
      " 1   attribute_name    151112 non-null  object\n",
      " 2   cod_value         151112 non-null  int64 \n",
      " 3   des_value         151112 non-null  object\n",
      "dtypes: int64(1), object(3)\n",
      "memory usage: 4.6+ MB\n"
     ]
    }
   ],
   "source": [
    "attrib_data.info()"
   ]
  },
  {
   "cell_type": "code",
   "execution_count": 5,
   "metadata": {},
   "outputs": [],
   "source": [
    "#attrib_data = attrib_data[~attrib_data['cod_modelo_color'].isin(['83_1148656', \"86_1208032\", \"88_49720742\"])]"
   ]
  },
  {
   "cell_type": "code",
   "execution_count": 6,
   "metadata": {},
   "outputs": [
    {
     "name": "stdout",
     "output_type": "stream",
     "text": [
      "<class 'pandas.core.frame.DataFrame'>\n",
      "RangeIndex: 151112 entries, 0 to 151111\n",
      "Data columns (total 4 columns):\n",
      " #   Column            Non-Null Count   Dtype \n",
      "---  ------            --------------   ----- \n",
      " 0   cod_modelo_color  151112 non-null  object\n",
      " 1   attribute_name    151112 non-null  object\n",
      " 2   cod_value         151112 non-null  int64 \n",
      " 3   des_value         151112 non-null  object\n",
      "dtypes: int64(1), object(3)\n",
      "memory usage: 4.6+ MB\n",
      " Number of nulls in the data: 0\n"
     ]
    }
   ],
   "source": [
    "attrib_data.head()\n",
    "attrib_data.info()\n",
    "attrib_data.describe()\n",
    "\n",
    "# Number of nulls\n",
    "print(f\" Number of nulls in the data: {attrib_data.isnull().sum().sum()}\")"
   ]
  },
  {
   "cell_type": "code",
   "execution_count": 7,
   "metadata": {},
   "outputs": [
    {
     "name": "stdout",
     "output_type": "stream",
     "text": [
      " Number of unique pieces of clothing: 33443\n"
     ]
    }
   ],
   "source": [
    "# Number of unique pieces of clothing\n",
    "print(f\" Number of unique pieces of clothing: {attrib_data['cod_modelo_color'].nunique()}\")"
   ]
  },
  {
   "cell_type": "markdown",
   "metadata": {},
   "source": [
    "# Product data"
   ]
  },
  {
   "cell_type": "code",
   "execution_count": 8,
   "metadata": {},
   "outputs": [
    {
     "name": "stdout",
     "output_type": "stream",
     "text": [
      " Number of rows in the product data: 61484\n"
     ]
    }
   ],
   "source": [
    "product_data = pd.read_csv(\"../data/archive/product_data.csv\")\n",
    "\n",
    "# check the number of rows\n",
    "print(f\" Number of rows in the product data: {product_data.shape[0]}\")"
   ]
  },
  {
   "cell_type": "code",
   "execution_count": 9,
   "metadata": {},
   "outputs": [
    {
     "name": "stdout",
     "output_type": "stream",
     "text": [
      " Number of rows in the product data: 61482\n",
      "The row is deleted\n"
     ]
    }
   ],
   "source": [
    "product_data = product_data[~product_data['des_filename'].isin(['83_1148656_17026323-07_B.jpg', \"86_1208032_47001267-15_.jpg\", \"88_49720742_67044470-56_.jpg\"])]\n",
    "print(f\" Number of rows in the product data: {product_data.shape[0]}\")\n",
    "\n",
    "# check if we deleted the deffective rows\n",
    "if \"86_1208032_47001267-15_.jpg\" in product_data['des_filename']:\n",
    "    print(\"The row is still there\")\n",
    "else:\n",
    "    print(\"The row is deleted\")\n"
   ]
  },
  {
   "cell_type": "code",
   "execution_count": 10,
   "metadata": {},
   "outputs": [
    {
     "name": "stdout",
     "output_type": "stream",
     "text": [
      "<class 'pandas.core.frame.DataFrame'>\n",
      "Index: 61482 entries, 0 to 61483\n",
      "Data columns (total 12 columns):\n",
      " #   Column                         Non-Null Count  Dtype \n",
      "---  ------                         --------------  ----- \n",
      " 0   cod_modelo_color               61482 non-null  object\n",
      " 1   cod_color                      61364 non-null  object\n",
      " 2   des_sex                        61482 non-null  object\n",
      " 3   des_age                        61482 non-null  object\n",
      " 4   des_line                       61482 non-null  object\n",
      " 5   des_fabric                     61482 non-null  object\n",
      " 6   des_product_category           61482 non-null  object\n",
      " 7   des_product_aggregated_family  61482 non-null  object\n",
      " 8   des_product_family             61482 non-null  object\n",
      " 9   des_product_type               61482 non-null  object\n",
      " 10  des_filename                   61482 non-null  object\n",
      " 11  des_color                      61364 non-null  object\n",
      "dtypes: object(12)\n",
      "memory usage: 6.1+ MB\n"
     ]
    },
    {
     "data": {
      "text/html": [
       "<div>\n",
       "<style scoped>\n",
       "    .dataframe tbody tr th:only-of-type {\n",
       "        vertical-align: middle;\n",
       "    }\n",
       "\n",
       "    .dataframe tbody tr th {\n",
       "        vertical-align: top;\n",
       "    }\n",
       "\n",
       "    .dataframe thead th {\n",
       "        text-align: right;\n",
       "    }\n",
       "</style>\n",
       "<table border=\"1\" class=\"dataframe\">\n",
       "  <thead>\n",
       "    <tr style=\"text-align: right;\">\n",
       "      <th></th>\n",
       "      <th>cod_modelo_color</th>\n",
       "      <th>cod_color</th>\n",
       "      <th>des_sex</th>\n",
       "      <th>des_age</th>\n",
       "      <th>des_line</th>\n",
       "      <th>des_fabric</th>\n",
       "      <th>des_product_category</th>\n",
       "      <th>des_product_aggregated_family</th>\n",
       "      <th>des_product_family</th>\n",
       "      <th>des_product_type</th>\n",
       "      <th>des_filename</th>\n",
       "      <th>des_color</th>\n",
       "    </tr>\n",
       "  </thead>\n",
       "  <tbody>\n",
       "    <tr>\n",
       "      <th>count</th>\n",
       "      <td>61482</td>\n",
       "      <td>61364</td>\n",
       "      <td>61482</td>\n",
       "      <td>61482</td>\n",
       "      <td>61482</td>\n",
       "      <td>61482</td>\n",
       "      <td>61482</td>\n",
       "      <td>61482</td>\n",
       "      <td>61482</td>\n",
       "      <td>61482</td>\n",
       "      <td>61482</td>\n",
       "      <td>61364</td>\n",
       "    </tr>\n",
       "    <tr>\n",
       "      <th>unique</th>\n",
       "      <td>33443</td>\n",
       "      <td>121</td>\n",
       "      <td>3</td>\n",
       "      <td>5</td>\n",
       "      <td>3</td>\n",
       "      <td>7</td>\n",
       "      <td>5</td>\n",
       "      <td>11</td>\n",
       "      <td>26</td>\n",
       "      <td>47</td>\n",
       "      <td>61482</td>\n",
       "      <td>121</td>\n",
       "    </tr>\n",
       "    <tr>\n",
       "      <th>top</th>\n",
       "      <td>86_1212312</td>\n",
       "      <td>99</td>\n",
       "      <td>Female</td>\n",
       "      <td>Adult</td>\n",
       "      <td>WOMAN</td>\n",
       "      <td>WOVEN</td>\n",
       "      <td>Tops</td>\n",
       "      <td>T-shirts</td>\n",
       "      <td>T-shirt</td>\n",
       "      <td>T-Shirt</td>\n",
       "      <td>83_1144802_17097729-99_B.jpg</td>\n",
       "      <td>NEGRO</td>\n",
       "    </tr>\n",
       "    <tr>\n",
       "      <th>freq</th>\n",
       "      <td>2</td>\n",
       "      <td>9755</td>\n",
       "      <td>43127</td>\n",
       "      <td>45904</td>\n",
       "      <td>33617</td>\n",
       "      <td>24335</td>\n",
       "      <td>28824</td>\n",
       "      <td>10290</td>\n",
       "      <td>9165</td>\n",
       "      <td>9165</td>\n",
       "      <td>1</td>\n",
       "      <td>9755</td>\n",
       "    </tr>\n",
       "  </tbody>\n",
       "</table>\n",
       "</div>"
      ],
      "text/plain": [
       "       cod_modelo_color cod_color des_sex des_age des_line des_fabric  \\\n",
       "count             61482     61364   61482   61482    61482      61482   \n",
       "unique            33443       121       3       5        3          7   \n",
       "top          86_1212312        99  Female   Adult    WOMAN      WOVEN   \n",
       "freq                  2      9755   43127   45904    33617      24335   \n",
       "\n",
       "       des_product_category des_product_aggregated_family des_product_family  \\\n",
       "count                 61482                         61482              61482   \n",
       "unique                    5                            11                 26   \n",
       "top                    Tops                      T-shirts            T-shirt   \n",
       "freq                  28824                         10290               9165   \n",
       "\n",
       "       des_product_type                  des_filename des_color  \n",
       "count             61482                         61482     61364  \n",
       "unique               47                         61482       121  \n",
       "top             T-Shirt  83_1144802_17097729-99_B.jpg     NEGRO  \n",
       "freq               9165                             1      9755  "
      ]
     },
     "execution_count": 10,
     "metadata": {},
     "output_type": "execute_result"
    }
   ],
   "source": [
    "product_data.info()\n",
    "product_data.describe()"
   ]
  },
  {
   "cell_type": "code",
   "execution_count": 11,
   "metadata": {},
   "outputs": [
    {
     "name": "stdout",
     "output_type": "stream",
     "text": [
      " Number of test images: 6529\n"
     ]
    }
   ],
   "source": [
    "test_images = 68013 - 61484\n",
    "print(f\" Number of test images: {test_images}\")"
   ]
  },
  {
   "cell_type": "markdown",
   "metadata": {},
   "source": [
    "# Let's prove it"
   ]
  },
  {
   "cell_type": "code",
   "execution_count": 12,
   "metadata": {},
   "outputs": [],
   "source": [
    "test_data = pd.read_csv(\"../data/archive/test_data.csv\")"
   ]
  },
  {
   "cell_type": "code",
   "execution_count": 13,
   "metadata": {},
   "outputs": [
    {
     "name": "stdout",
     "output_type": "stream",
     "text": [
      "<class 'pandas.core.frame.DataFrame'>\n",
      "RangeIndex: 71819 entries, 0 to 71818\n",
      "Data columns (total 14 columns):\n",
      " #   Column                         Non-Null Count  Dtype \n",
      "---  ------                         --------------  ----- \n",
      " 0   cod_modelo_color               71819 non-null  object\n",
      " 1   des_filename                   71819 non-null  object\n",
      " 2   cod_color                      71786 non-null  object\n",
      " 3   des_color                      71786 non-null  object\n",
      " 4   des_sex                        71819 non-null  object\n",
      " 5   des_age                        71819 non-null  object\n",
      " 6   des_line                       71819 non-null  object\n",
      " 7   des_fabric                     71819 non-null  object\n",
      " 8   des_product_category           71819 non-null  object\n",
      " 9   des_product_aggregated_family  71819 non-null  object\n",
      " 10  des_product_family             71819 non-null  object\n",
      " 11  des_product_type               71819 non-null  object\n",
      " 12  attribute_name                 71819 non-null  object\n",
      " 13  test_id                        71819 non-null  object\n",
      "dtypes: object(14)\n",
      "memory usage: 7.7+ MB\n",
      " Number of unique values in the test data: 6529\n"
     ]
    }
   ],
   "source": [
    "test_data.info()\n",
    "\n",
    "# Count the unique values in the test data\n",
    "print(f\" Number of unique values in the test data: {test_data['cod_modelo_color'].nunique()}\")\n"
   ]
  },
  {
   "cell_type": "code",
   "execution_count": 14,
   "metadata": {},
   "outputs": [
    {
     "name": "stdout",
     "output_type": "stream",
     "text": [
      " cod_modelo_color: 33443\n",
      " cod_color: 121\n",
      " des_sex: 3\n",
      " des_age: 5\n",
      " des_line: 3\n",
      " des_fabric: 7\n",
      " des_product_category: 5\n",
      " des_product_aggregated_family: 11\n",
      " des_product_family: 26\n",
      " des_product_type: 47\n",
      " des_filename: 61482\n",
      " des_color: 121\n"
     ]
    }
   ],
   "source": [
    "# We print the unique values of the columns\n",
    "for column in product_data.columns:\n",
    "    print(f\" {column}: {product_data[column].nunique()}\")"
   ]
  },
  {
   "cell_type": "markdown",
   "metadata": {},
   "source": [
    "# New data"
   ]
  },
  {
   "cell_type": "code",
   "execution_count": 15,
   "metadata": {},
   "outputs": [
    {
     "data": {
      "text/html": [
       "<div>\n",
       "<style scoped>\n",
       "    .dataframe tbody tr th:only-of-type {\n",
       "        vertical-align: middle;\n",
       "    }\n",
       "\n",
       "    .dataframe tbody tr th {\n",
       "        vertical-align: top;\n",
       "    }\n",
       "\n",
       "    .dataframe thead th {\n",
       "        text-align: right;\n",
       "    }\n",
       "</style>\n",
       "<table border=\"1\" class=\"dataframe\">\n",
       "  <thead>\n",
       "    <tr style=\"text-align: right;\">\n",
       "      <th></th>\n",
       "      <th>cod_modelo_color</th>\n",
       "      <th>attribute_name</th>\n",
       "      <th>cod_value</th>\n",
       "      <th>des_value</th>\n",
       "      <th>cod_color</th>\n",
       "      <th>des_sex</th>\n",
       "      <th>des_age</th>\n",
       "      <th>des_line</th>\n",
       "      <th>des_fabric</th>\n",
       "      <th>des_product_category</th>\n",
       "      <th>des_product_aggregated_family</th>\n",
       "      <th>des_product_family</th>\n",
       "      <th>des_product_type</th>\n",
       "      <th>des_filename</th>\n",
       "      <th>des_color</th>\n",
       "    </tr>\n",
       "  </thead>\n",
       "  <tbody>\n",
       "    <tr>\n",
       "      <th>0</th>\n",
       "      <td>85_1202950</td>\n",
       "      <td>silhouette_type</td>\n",
       "      <td>37</td>\n",
       "      <td>Slim</td>\n",
       "      <td>99</td>\n",
       "      <td>Female</td>\n",
       "      <td>Adult</td>\n",
       "      <td>WOMAN</td>\n",
       "      <td>TRICOT</td>\n",
       "      <td>Tops</td>\n",
       "      <td>Tops</td>\n",
       "      <td>Tops</td>\n",
       "      <td>Top</td>\n",
       "      <td>85_1202950_37036315-99_B.jpg</td>\n",
       "      <td>NEGRO</td>\n",
       "    </tr>\n",
       "    <tr>\n",
       "      <th>1</th>\n",
       "      <td>85_1202950</td>\n",
       "      <td>silhouette_type</td>\n",
       "      <td>37</td>\n",
       "      <td>Slim</td>\n",
       "      <td>99</td>\n",
       "      <td>Female</td>\n",
       "      <td>Adult</td>\n",
       "      <td>WOMAN</td>\n",
       "      <td>TRICOT</td>\n",
       "      <td>Tops</td>\n",
       "      <td>Tops</td>\n",
       "      <td>Tops</td>\n",
       "      <td>Top</td>\n",
       "      <td>85_1202950_37036315-99_.jpg</td>\n",
       "      <td>NEGRO</td>\n",
       "    </tr>\n",
       "    <tr>\n",
       "      <th>2</th>\n",
       "      <td>86_1217677</td>\n",
       "      <td>silhouette_type</td>\n",
       "      <td>27</td>\n",
       "      <td>Oversize</td>\n",
       "      <td>95</td>\n",
       "      <td>Male</td>\n",
       "      <td>Teen</td>\n",
       "      <td>KIDS</td>\n",
       "      <td>CIRCULAR</td>\n",
       "      <td>Tops</td>\n",
       "      <td>T-shirts</td>\n",
       "      <td>T-shirt</td>\n",
       "      <td>T-Shirt</td>\n",
       "      <td>86_1217677_47024408-95_.jpg</td>\n",
       "      <td>ANTRACITA</td>\n",
       "    </tr>\n",
       "    <tr>\n",
       "      <th>3</th>\n",
       "      <td>86_1217677</td>\n",
       "      <td>silhouette_type</td>\n",
       "      <td>27</td>\n",
       "      <td>Oversize</td>\n",
       "      <td>95</td>\n",
       "      <td>Male</td>\n",
       "      <td>Teen</td>\n",
       "      <td>KIDS</td>\n",
       "      <td>CIRCULAR</td>\n",
       "      <td>Tops</td>\n",
       "      <td>T-shirts</td>\n",
       "      <td>T-shirt</td>\n",
       "      <td>T-Shirt</td>\n",
       "      <td>86_1217677_47024408-95_B.jpg</td>\n",
       "      <td>ANTRACITA</td>\n",
       "    </tr>\n",
       "    <tr>\n",
       "      <th>4</th>\n",
       "      <td>84_1168477</td>\n",
       "      <td>silhouette_type</td>\n",
       "      <td>37</td>\n",
       "      <td>Slim</td>\n",
       "      <td>99</td>\n",
       "      <td>Female</td>\n",
       "      <td>Adult</td>\n",
       "      <td>WOMAN</td>\n",
       "      <td>TRICOT</td>\n",
       "      <td>Tops</td>\n",
       "      <td>Sweaters and Cardigans</td>\n",
       "      <td>Sweater</td>\n",
       "      <td>Sweater</td>\n",
       "      <td>84_1168477_27075766-99_B.jpg</td>\n",
       "      <td>NEGRO</td>\n",
       "    </tr>\n",
       "  </tbody>\n",
       "</table>\n",
       "</div>"
      ],
      "text/plain": [
       "  cod_modelo_color   attribute_name  cod_value des_value cod_color des_sex  \\\n",
       "0       85_1202950  silhouette_type         37      Slim        99  Female   \n",
       "1       85_1202950  silhouette_type         37      Slim        99  Female   \n",
       "2       86_1217677  silhouette_type         27  Oversize        95    Male   \n",
       "3       86_1217677  silhouette_type         27  Oversize        95    Male   \n",
       "4       84_1168477  silhouette_type         37      Slim        99  Female   \n",
       "\n",
       "  des_age des_line des_fabric des_product_category  \\\n",
       "0   Adult    WOMAN     TRICOT                 Tops   \n",
       "1   Adult    WOMAN     TRICOT                 Tops   \n",
       "2    Teen     KIDS   CIRCULAR                 Tops   \n",
       "3    Teen     KIDS   CIRCULAR                 Tops   \n",
       "4   Adult    WOMAN     TRICOT                 Tops   \n",
       "\n",
       "  des_product_aggregated_family des_product_family des_product_type  \\\n",
       "0                          Tops               Tops              Top   \n",
       "1                          Tops               Tops              Top   \n",
       "2                      T-shirts            T-shirt          T-Shirt   \n",
       "3                      T-shirts            T-shirt          T-Shirt   \n",
       "4        Sweaters and Cardigans            Sweater          Sweater   \n",
       "\n",
       "                   des_filename  des_color  \n",
       "0  85_1202950_37036315-99_B.jpg      NEGRO  \n",
       "1   85_1202950_37036315-99_.jpg      NEGRO  \n",
       "2   86_1217677_47024408-95_.jpg  ANTRACITA  \n",
       "3  86_1217677_47024408-95_B.jpg  ANTRACITA  \n",
       "4  84_1168477_27075766-99_B.jpg      NEGRO  "
      ]
     },
     "execution_count": 15,
     "metadata": {},
     "output_type": "execute_result"
    }
   ],
   "source": [
    "# Now we make a join between the two datasets using the column 'cod_modelo_color'\n",
    "merged_data = pd.merge(attrib_data, product_data, on='cod_modelo_color')\n",
    "merged_data.head()"
   ]
  },
  {
   "cell_type": "code",
   "execution_count": 16,
   "metadata": {},
   "outputs": [
    {
     "name": "stdout",
     "output_type": "stream",
     "text": [
      "<class 'pandas.core.frame.DataFrame'>\n",
      "Index: 11 entries, 6 to 0\n",
      "Data columns (total 2 columns):\n",
      " #   Column          Non-Null Count  Dtype \n",
      "---  ------          --------------  ----- \n",
      " 0   attribute_name  11 non-null     object\n",
      " 1   count           11 non-null     int64 \n",
      "dtypes: int64(1), object(1)\n",
      "memory usage: 264.0+ bytes\n"
     ]
    }
   ],
   "source": [
    "# now we do a group by using attribute name\n",
    "grouped_data = merged_data.groupby('attribute_name').size().reset_index(name='count')\n",
    "grouped_data = grouped_data.sort_values(by='count', ascending=False)\n",
    "grouped_data.info()"
   ]
  },
  {
   "cell_type": "code",
   "execution_count": 17,
   "metadata": {},
   "outputs": [
    {
     "data": {
      "text/html": [
       "<div>\n",
       "<style scoped>\n",
       "    .dataframe tbody tr th:only-of-type {\n",
       "        vertical-align: middle;\n",
       "    }\n",
       "\n",
       "    .dataframe tbody tr th {\n",
       "        vertical-align: top;\n",
       "    }\n",
       "\n",
       "    .dataframe thead th {\n",
       "        text-align: right;\n",
       "    }\n",
       "</style>\n",
       "<table border=\"1\" class=\"dataframe\">\n",
       "  <thead>\n",
       "    <tr style=\"text-align: right;\">\n",
       "      <th></th>\n",
       "      <th>cod_modelo_color</th>\n",
       "      <th>count</th>\n",
       "    </tr>\n",
       "  </thead>\n",
       "  <tbody>\n",
       "    <tr>\n",
       "      <th>492</th>\n",
       "      <td>81_1054583</td>\n",
       "      <td>1</td>\n",
       "    </tr>\n",
       "    <tr>\n",
       "      <th>494</th>\n",
       "      <td>81_1054607</td>\n",
       "      <td>1</td>\n",
       "    </tr>\n",
       "    <tr>\n",
       "      <th>501</th>\n",
       "      <td>81_1054737</td>\n",
       "      <td>1</td>\n",
       "    </tr>\n",
       "    <tr>\n",
       "      <th>502</th>\n",
       "      <td>81_1054816</td>\n",
       "      <td>1</td>\n",
       "    </tr>\n",
       "    <tr>\n",
       "      <th>32621</th>\n",
       "      <td>86_1228411</td>\n",
       "      <td>1</td>\n",
       "    </tr>\n",
       "  </tbody>\n",
       "</table>\n",
       "</div>"
      ],
      "text/plain": [
       "      cod_modelo_color  count\n",
       "492         81_1054583      1\n",
       "494         81_1054607      1\n",
       "501         81_1054737      1\n",
       "502         81_1054816      1\n",
       "32621       86_1228411      1"
      ]
     },
     "execution_count": 17,
     "metadata": {},
     "output_type": "execute_result"
    }
   ],
   "source": [
    "# another way to do the group by but using the 'cod_modelo_color' column\n",
    "grouped_data = merged_data.groupby('cod_modelo_color').size().reset_index(name='count')\n",
    "grouped_data = grouped_data.sort_values(by='count', ascending=False)\n",
    "grouped_data.tail()"
   ]
  },
  {
   "cell_type": "code",
   "execution_count": 18,
   "metadata": {},
   "outputs": [
    {
     "data": {
      "text/plain": [
       "<Axes: ylabel='Frequency'>"
      ]
     },
     "execution_count": 18,
     "metadata": {},
     "output_type": "execute_result"
    },
    {
     "data": {
      "image/png": "[encoded data removed]",
      "text/plain": [
       "<Figure size 640x480 with 1 Axes>"
      ]
     },
     "metadata": {},
     "output_type": "display_data"
    }
   ],
   "source": [
    "# Now we do a plot to see the distribution of the grouped data\n",
    "grouped_data['count'].plot(kind='hist', bins=100)"
   ]
  },
  {
   "cell_type": "markdown",
   "metadata": {},
   "source": [
    "# Create the training set"
   ]
  },
  {
   "cell_type": "code",
   "execution_count": 19,
   "metadata": {},
   "outputs": [
    {
     "name": "stdout",
     "output_type": "stream",
     "text": [
      "<class 'pandas.core.frame.DataFrame'>\n",
      "RangeIndex: 151112 entries, 0 to 151111\n",
      "Data columns (total 4 columns):\n",
      " #   Column            Non-Null Count   Dtype \n",
      "---  ------            --------------   ----- \n",
      " 0   cod_modelo_color  151112 non-null  object\n",
      " 1   attribute_name    151112 non-null  object\n",
      " 2   cod_value         151112 non-null  int64 \n",
      " 3   des_value         151112 non-null  object\n",
      "dtypes: int64(1), object(3)\n",
      "memory usage: 4.6+ MB\n"
     ]
    }
   ],
   "source": [
    "attrib_data.info()"
   ]
  },
  {
   "cell_type": "code",
   "execution_count": null,
   "metadata": {},
   "outputs": [],
   "source": []
  },
  {
   "cell_type": "code",
   "execution_count": 20,
   "metadata": {},
   "outputs": [
    {
     "name": "stdout",
     "output_type": "stream",
     "text": [
      "<class 'pandas.core.frame.DataFrame'>\n",
      "RangeIndex: 151112 entries, 0 to 151111\n",
      "Data columns (total 4 columns):\n",
      " #   Column            Non-Null Count   Dtype \n",
      "---  ------            --------------   ----- \n",
      " 0   cod_modelo_color  151112 non-null  object\n",
      " 1   attribute_name    151112 non-null  object\n",
      " 2   cod_value         151112 non-null  int64 \n",
      " 3   des_value         151112 non-null  object\n",
      "dtypes: int64(1), object(3)\n",
      "memory usage: 4.6+ MB\n"
     ]
    }
   ],
   "source": [
    "attrib_data.info()"
   ]
  },
  {
   "cell_type": "code",
   "execution_count": 21,
   "metadata": {},
   "outputs": [
    {
     "name": "stdout",
     "output_type": "stream",
     "text": [
      "\n",
      "DataFrame transformado con 'INVALID':\n"
     ]
    },
    {
     "data": {
      "text/html": [
       "<div>\n",
       "<style scoped>\n",
       "    .dataframe tbody tr th:only-of-type {\n",
       "        vertical-align: middle;\n",
       "    }\n",
       "\n",
       "    .dataframe tbody tr th {\n",
       "        vertical-align: top;\n",
       "    }\n",
       "\n",
       "    .dataframe thead th {\n",
       "        text-align: right;\n",
       "    }\n",
       "</style>\n",
       "<table border=\"1\" class=\"dataframe\">\n",
       "  <thead>\n",
       "    <tr style=\"text-align: right;\">\n",
       "      <th></th>\n",
       "      <th>cod_modelo_color</th>\n",
       "      <th>cane_height_type</th>\n",
       "      <th>closure_placement</th>\n",
       "      <th>heel_shape_type</th>\n",
       "      <th>knit_structure</th>\n",
       "      <th>length_type</th>\n",
       "      <th>neck_lapel_type</th>\n",
       "      <th>silhouette_type</th>\n",
       "      <th>sleeve_length_type</th>\n",
       "      <th>toecap_type</th>\n",
       "      <th>waist_type</th>\n",
       "      <th>woven_structure</th>\n",
       "    </tr>\n",
       "  </thead>\n",
       "  <tbody>\n",
       "    <tr>\n",
       "      <th>0</th>\n",
       "      <td>81_1034451</td>\n",
       "      <td>INVALID</td>\n",
       "      <td>INVALID</td>\n",
       "      <td>INVALID</td>\n",
       "      <td>INVALID</td>\n",
       "      <td>INVALID</td>\n",
       "      <td>Hawaiano/Bowling</td>\n",
       "      <td>Regular</td>\n",
       "      <td>Corta</td>\n",
       "      <td>INVALID</td>\n",
       "      <td>INVALID</td>\n",
       "      <td>INVALID</td>\n",
       "    </tr>\n",
       "    <tr>\n",
       "      <th>1</th>\n",
       "      <td>81_1034525</td>\n",
       "      <td>INVALID</td>\n",
       "      <td>INVALID</td>\n",
       "      <td>INVALID</td>\n",
       "      <td>INVALID</td>\n",
       "      <td>INVALID</td>\n",
       "      <td>Hawaiano/Bowling</td>\n",
       "      <td>Regular</td>\n",
       "      <td>Corta</td>\n",
       "      <td>INVALID</td>\n",
       "      <td>INVALID</td>\n",
       "      <td>INVALID</td>\n",
       "    </tr>\n",
       "    <tr>\n",
       "      <th>2</th>\n",
       "      <td>81_1035318</td>\n",
       "      <td>INVALID</td>\n",
       "      <td>INVALID</td>\n",
       "      <td>INVALID</td>\n",
       "      <td>INVALID</td>\n",
       "      <td>Largo</td>\n",
       "      <td>INVALID</td>\n",
       "      <td>INVALID</td>\n",
       "      <td>INVALID</td>\n",
       "      <td>INVALID</td>\n",
       "      <td>INVALID</td>\n",
       "      <td>INVALID</td>\n",
       "    </tr>\n",
       "    <tr>\n",
       "      <th>3</th>\n",
       "      <td>81_1035321</td>\n",
       "      <td>INVALID</td>\n",
       "      <td>INVALID</td>\n",
       "      <td>INVALID</td>\n",
       "      <td>INVALID</td>\n",
       "      <td>Largo</td>\n",
       "      <td>INVALID</td>\n",
       "      <td>INVALID</td>\n",
       "      <td>INVALID</td>\n",
       "      <td>INVALID</td>\n",
       "      <td>INVALID</td>\n",
       "      <td>INVALID</td>\n",
       "    </tr>\n",
       "    <tr>\n",
       "      <th>4</th>\n",
       "      <td>81_1035361</td>\n",
       "      <td>INVALID</td>\n",
       "      <td>INVALID</td>\n",
       "      <td>INVALID</td>\n",
       "      <td>INVALID</td>\n",
       "      <td>Largo</td>\n",
       "      <td>Capucha</td>\n",
       "      <td>INVALID</td>\n",
       "      <td>INVALID</td>\n",
       "      <td>INVALID</td>\n",
       "      <td>INVALID</td>\n",
       "      <td>INVALID</td>\n",
       "    </tr>\n",
       "  </tbody>\n",
       "</table>\n",
       "</div>"
      ],
      "text/plain": [
       "  cod_modelo_color cane_height_type closure_placement heel_shape_type  \\\n",
       "0       81_1034451          INVALID           INVALID         INVALID   \n",
       "1       81_1034525          INVALID           INVALID         INVALID   \n",
       "2       81_1035318          INVALID           INVALID         INVALID   \n",
       "3       81_1035321          INVALID           INVALID         INVALID   \n",
       "4       81_1035361          INVALID           INVALID         INVALID   \n",
       "\n",
       "  knit_structure length_type   neck_lapel_type silhouette_type  \\\n",
       "0        INVALID     INVALID  Hawaiano/Bowling         Regular   \n",
       "1        INVALID     INVALID  Hawaiano/Bowling         Regular   \n",
       "2        INVALID       Largo           INVALID         INVALID   \n",
       "3        INVALID       Largo           INVALID         INVALID   \n",
       "4        INVALID       Largo           Capucha         INVALID   \n",
       "\n",
       "  sleeve_length_type toecap_type waist_type woven_structure  \n",
       "0              Corta     INVALID    INVALID         INVALID  \n",
       "1              Corta     INVALID    INVALID         INVALID  \n",
       "2            INVALID     INVALID    INVALID         INVALID  \n",
       "3            INVALID     INVALID    INVALID         INVALID  \n",
       "4            INVALID     INVALID    INVALID         INVALID  "
      ]
     },
     "execution_count": 21,
     "metadata": {},
     "output_type": "execute_result"
    }
   ],
   "source": [
    "attrib_data_pivot = attrib_data.pivot(index='cod_modelo_color', columns='attribute_name', values='des_value')\n",
    "attrib_data_pivot.reset_index(inplace=True)\n",
    "\n",
    "attrib_data_pivot.columns.name = None\n",
    "attrib_data_pivot.columns = ['cod_modelo_color'] + [f'{col}' for col in attrib_data_pivot.columns if col != 'cod_modelo_color']\n",
    "\n",
    "# Reemplazar NaNs por 'INVALID'\n",
    "attrib_data_pivot.fillna('INVALID', inplace=True)\n",
    "\n",
    "print(\"\\nDataFrame transformado con 'INVALID':\")\n",
    "attrib_data_pivot.head()"
   ]
  },
  {
   "cell_type": "code",
   "execution_count": 22,
   "metadata": {},
   "outputs": [
    {
     "name": "stdout",
     "output_type": "stream",
     "text": [
      "Todas las IDs en df_features tienen correspondencia en df_labels.\n"
     ]
    }
   ],
   "source": [
    "# Verificar IDs sin correspondencia\n",
    "ids_sin_correspondencia = product_data[~product_data['cod_modelo_color'].isin(attrib_data_pivot['cod_modelo_color'])]['cod_modelo_color'].unique()\n",
    "if len(ids_sin_correspondencia) > 0:\n",
    "    print(f\"Advertencia: Las siguientes IDs en df_features no tienen correspondencia en df_labels: {ids_sin_correspondencia}\")\n",
    "else:\n",
    "    print(\"Todas las IDs en df_features tienen correspondencia en df_labels.\")"
   ]
  },
  {
   "cell_type": "code",
   "execution_count": 23,
   "metadata": {},
   "outputs": [
    {
     "data": {
      "text/html": [
       "<div>\n",
       "<style scoped>\n",
       "    .dataframe tbody tr th:only-of-type {\n",
       "        vertical-align: middle;\n",
       "    }\n",
       "\n",
       "    .dataframe tbody tr th {\n",
       "        vertical-align: top;\n",
       "    }\n",
       "\n",
       "    .dataframe thead th {\n",
       "        text-align: right;\n",
       "    }\n",
       "</style>\n",
       "<table border=\"1\" class=\"dataframe\">\n",
       "  <thead>\n",
       "    <tr style=\"text-align: right;\">\n",
       "      <th></th>\n",
       "      <th>cod_modelo_color</th>\n",
       "      <th>cod_color</th>\n",
       "      <th>des_sex</th>\n",
       "      <th>des_age</th>\n",
       "      <th>des_line</th>\n",
       "      <th>des_fabric</th>\n",
       "      <th>des_product_category</th>\n",
       "      <th>des_product_aggregated_family</th>\n",
       "      <th>des_product_family</th>\n",
       "      <th>des_product_type</th>\n",
       "      <th>...</th>\n",
       "      <th>closure_placement</th>\n",
       "      <th>heel_shape_type</th>\n",
       "      <th>knit_structure</th>\n",
       "      <th>length_type</th>\n",
       "      <th>neck_lapel_type</th>\n",
       "      <th>silhouette_type</th>\n",
       "      <th>sleeve_length_type</th>\n",
       "      <th>toecap_type</th>\n",
       "      <th>waist_type</th>\n",
       "      <th>woven_structure</th>\n",
       "    </tr>\n",
       "  </thead>\n",
       "  <tbody>\n",
       "    <tr>\n",
       "      <th>0</th>\n",
       "      <td>83_1124642</td>\n",
       "      <td>82</td>\n",
       "      <td>Female</td>\n",
       "      <td>Kids</td>\n",
       "      <td>KIDS</td>\n",
       "      <td>TRICOT</td>\n",
       "      <td>Tops</td>\n",
       "      <td>Sweaters and Cardigans</td>\n",
       "      <td>Sweater</td>\n",
       "      <td>Sweater</td>\n",
       "      <td>...</td>\n",
       "      <td>Cuello</td>\n",
       "      <td>INVALID</td>\n",
       "      <td>Punto Fino</td>\n",
       "      <td>Standard</td>\n",
       "      <td>Redondo</td>\n",
       "      <td>Recto</td>\n",
       "      <td>Larga</td>\n",
       "      <td>INVALID</td>\n",
       "      <td>INVALID</td>\n",
       "      <td>INVALID</td>\n",
       "    </tr>\n",
       "    <tr>\n",
       "      <th>1</th>\n",
       "      <td>86_1215223</td>\n",
       "      <td>01</td>\n",
       "      <td>Female</td>\n",
       "      <td>Kids</td>\n",
       "      <td>KIDS</td>\n",
       "      <td>WOVEN</td>\n",
       "      <td>Dresses, jumpsuits and Complete set</td>\n",
       "      <td>Dresses and jumpsuits</td>\n",
       "      <td>Dresses</td>\n",
       "      <td>Dress</td>\n",
       "      <td>...</td>\n",
       "      <td>Cierre Trasero</td>\n",
       "      <td>INVALID</td>\n",
       "      <td>INVALID</td>\n",
       "      <td>Largo</td>\n",
       "      <td>Caja</td>\n",
       "      <td>Evase</td>\n",
       "      <td>Corta</td>\n",
       "      <td>INVALID</td>\n",
       "      <td>INVALID</td>\n",
       "      <td>Ligero</td>\n",
       "    </tr>\n",
       "    <tr>\n",
       "      <th>2</th>\n",
       "      <td>84_1167695</td>\n",
       "      <td>70</td>\n",
       "      <td>Female</td>\n",
       "      <td>Kids</td>\n",
       "      <td>KIDS</td>\n",
       "      <td>CIRCULAR</td>\n",
       "      <td>Tops</td>\n",
       "      <td>T-shirts</td>\n",
       "      <td>T-shirt</td>\n",
       "      <td>T-Shirt</td>\n",
       "      <td>...</td>\n",
       "      <td>INVALID</td>\n",
       "      <td>INVALID</td>\n",
       "      <td>INVALID</td>\n",
       "      <td>Standard</td>\n",
       "      <td>Redondo</td>\n",
       "      <td>Recto</td>\n",
       "      <td>Corta</td>\n",
       "      <td>INVALID</td>\n",
       "      <td>INVALID</td>\n",
       "      <td>Ligero</td>\n",
       "    </tr>\n",
       "    <tr>\n",
       "      <th>3</th>\n",
       "      <td>82_1108473</td>\n",
       "      <td>01</td>\n",
       "      <td>Female</td>\n",
       "      <td>Teen</td>\n",
       "      <td>KIDS</td>\n",
       "      <td>JEANS</td>\n",
       "      <td>Bottoms</td>\n",
       "      <td>Jeans</td>\n",
       "      <td>Jeans</td>\n",
       "      <td>Jeans</td>\n",
       "      <td>...</td>\n",
       "      <td>INVALID</td>\n",
       "      <td>INVALID</td>\n",
       "      <td>INVALID</td>\n",
       "      <td>Largo</td>\n",
       "      <td>INVALID</td>\n",
       "      <td>Skinny</td>\n",
       "      <td>INVALID</td>\n",
       "      <td>INVALID</td>\n",
       "      <td>High Waist</td>\n",
       "      <td>Medio</td>\n",
       "    </tr>\n",
       "    <tr>\n",
       "      <th>4</th>\n",
       "      <td>83_1137778</td>\n",
       "      <td>37</td>\n",
       "      <td>Male</td>\n",
       "      <td>Adult</td>\n",
       "      <td>MAN</td>\n",
       "      <td>CIRCULAR</td>\n",
       "      <td>Tops</td>\n",
       "      <td>Sweaters and Cardigans</td>\n",
       "      <td>Sweatshirts</td>\n",
       "      <td>Sweatshirt</td>\n",
       "      <td>...</td>\n",
       "      <td>Sin cierre</td>\n",
       "      <td>INVALID</td>\n",
       "      <td>INVALID</td>\n",
       "      <td>Standard</td>\n",
       "      <td>Redondo</td>\n",
       "      <td>Regular</td>\n",
       "      <td>Larga</td>\n",
       "      <td>INVALID</td>\n",
       "      <td>INVALID</td>\n",
       "      <td>Ligero</td>\n",
       "    </tr>\n",
       "  </tbody>\n",
       "</table>\n",
       "<p>5 rows × 23 columns</p>\n",
       "</div>"
      ],
      "text/plain": [
       "  cod_modelo_color cod_color des_sex des_age des_line des_fabric  \\\n",
       "0       83_1124642        82  Female    Kids     KIDS     TRICOT   \n",
       "1       86_1215223        01  Female    Kids     KIDS      WOVEN   \n",
       "2       84_1167695        70  Female    Kids     KIDS   CIRCULAR   \n",
       "3       82_1108473        01  Female    Teen     KIDS      JEANS   \n",
       "4       83_1137778        37    Male   Adult      MAN   CIRCULAR   \n",
       "\n",
       "                  des_product_category des_product_aggregated_family  \\\n",
       "0                                 Tops        Sweaters and Cardigans   \n",
       "1  Dresses, jumpsuits and Complete set         Dresses and jumpsuits   \n",
       "2                                 Tops                      T-shirts   \n",
       "3                              Bottoms                         Jeans   \n",
       "4                                 Tops        Sweaters and Cardigans   \n",
       "\n",
       "  des_product_family des_product_type  ... closure_placement heel_shape_type  \\\n",
       "0            Sweater          Sweater  ...            Cuello         INVALID   \n",
       "1            Dresses            Dress  ...    Cierre Trasero         INVALID   \n",
       "2            T-shirt          T-Shirt  ...           INVALID         INVALID   \n",
       "3              Jeans            Jeans  ...           INVALID         INVALID   \n",
       "4        Sweatshirts       Sweatshirt  ...        Sin cierre         INVALID   \n",
       "\n",
       "  knit_structure length_type neck_lapel_type silhouette_type  \\\n",
       "0     Punto Fino    Standard         Redondo           Recto   \n",
       "1        INVALID       Largo            Caja           Evase   \n",
       "2        INVALID    Standard         Redondo           Recto   \n",
       "3        INVALID       Largo         INVALID          Skinny   \n",
       "4        INVALID    Standard         Redondo         Regular   \n",
       "\n",
       "  sleeve_length_type toecap_type  waist_type woven_structure  \n",
       "0              Larga     INVALID     INVALID         INVALID  \n",
       "1              Corta     INVALID     INVALID          Ligero  \n",
       "2              Corta     INVALID     INVALID          Ligero  \n",
       "3            INVALID     INVALID  High Waist           Medio  \n",
       "4              Larga     INVALID     INVALID          Ligero  \n",
       "\n",
       "[5 rows x 23 columns]"
      ]
     },
     "execution_count": 23,
     "metadata": {},
     "output_type": "execute_result"
    }
   ],
   "source": [
    "df_combined = pd.merge(product_data, attrib_data_pivot, on='cod_modelo_color', how='inner')\n",
    "df_combined.head()"
   ]
  },
  {
   "cell_type": "code",
   "execution_count": 24,
   "metadata": {},
   "outputs": [],
   "source": [
    "# Suponiendo que las columnas de etiquetas en df_labels son 'label1', 'label2', ..., 'label11'\n",
    "columnas_labels = ['cane_height_type', 'closure_placement', 'heel_shape_type', 'knit_structure', 'length_type', 'neck_lapel_type', 'silhouette_type', 'sleeve_length_type', 'toecap_type', 'waist_type', 'woven_structure']\n",
    "\n",
    "# DataFrame de características\n",
    "df_features_final = df_combined.drop(columns=columnas_labels)\n",
    "\n",
    "# DataFrame de etiquetas\n",
    "df_labels_final = df_combined[['cod_modelo_color'] + columnas_labels]"
   ]
  },
  {
   "cell_type": "code",
   "execution_count": 25,
   "metadata": {},
   "outputs": [],
   "source": [
    "# save_path = \"../flores\" \n",
    "# df_features_final.to_csv(os.path.join(save_path, \"df_labels_final.csv\"), index=False)"
   ]
  },
  {
   "cell_type": "code",
   "execution_count": 26,
   "metadata": {},
   "outputs": [
    {
     "name": "stdout",
     "output_type": "stream",
     "text": [
      "<class 'pandas.core.frame.DataFrame'>\n",
      "RangeIndex: 61482 entries, 0 to 61481\n",
      "Data columns (total 12 columns):\n",
      " #   Column                         Non-Null Count  Dtype \n",
      "---  ------                         --------------  ----- \n",
      " 0   cod_modelo_color               61482 non-null  object\n",
      " 1   cod_color                      61364 non-null  object\n",
      " 2   des_sex                        61482 non-null  object\n",
      " 3   des_age                        61482 non-null  object\n",
      " 4   des_line                       61482 non-null  object\n",
      " 5   des_fabric                     61482 non-null  object\n",
      " 6   des_product_category           61482 non-null  object\n",
      " 7   des_product_aggregated_family  61482 non-null  object\n",
      " 8   des_product_family             61482 non-null  object\n",
      " 9   des_product_type               61482 non-null  object\n",
      " 10  des_filename                   61482 non-null  object\n",
      " 11  des_color                      61364 non-null  object\n",
      "dtypes: object(12)\n",
      "memory usage: 5.6+ MB\n",
      "<class 'pandas.core.frame.DataFrame'>\n",
      "RangeIndex: 61482 entries, 0 to 61481\n",
      "Data columns (total 12 columns):\n",
      " #   Column              Non-Null Count  Dtype \n",
      "---  ------              --------------  ----- \n",
      " 0   cod_modelo_color    61482 non-null  object\n",
      " 1   cane_height_type    61482 non-null  object\n",
      " 2   closure_placement   61482 non-null  object\n",
      " 3   heel_shape_type     61482 non-null  object\n",
      " 4   knit_structure      61482 non-null  object\n",
      " 5   length_type         61482 non-null  object\n",
      " 6   neck_lapel_type     61482 non-null  object\n",
      " 7   silhouette_type     61482 non-null  object\n",
      " 8   sleeve_length_type  61482 non-null  object\n",
      " 9   toecap_type         61482 non-null  object\n",
      " 10  waist_type          61482 non-null  object\n",
      " 11  woven_structure     61482 non-null  object\n",
      "dtypes: object(12)\n",
      "memory usage: 5.6+ MB\n"
     ]
    }
   ],
   "source": [
    "df_features_final.info()\n",
    "df_labels_final.info()"
   ]
  },
  {
   "cell_type": "code",
   "execution_count": 27,
   "metadata": {},
   "outputs": [
    {
     "data": {
      "text/plain": [
       "Index(['cod_modelo_color', 'cane_height_type', 'closure_placement',\n",
       "       'heel_shape_type', 'knit_structure', 'length_type', 'neck_lapel_type',\n",
       "       'silhouette_type', 'sleeve_length_type', 'toecap_type', 'waist_type',\n",
       "       'woven_structure'],\n",
       "      dtype='object')"
      ]
     },
     "execution_count": 27,
     "metadata": {},
     "output_type": "execute_result"
    }
   ],
   "source": [
    "df_labels_final.columns"
   ]
  },
  {
   "cell_type": "code",
   "execution_count": 28,
   "metadata": {},
   "outputs": [
    {
     "name": "stderr",
     "output_type": "stream",
     "text": [
      "C:\\Users\\HP\\AppData\\Local\\Temp\\ipykernel_13916\\2522544436.py:3: SettingWithCopyWarning: \n",
      "A value is trying to be set on a copy of a slice from a DataFrame\n",
      "\n",
      "See the caveats in the documentation: https://pandas.pydata.org/pandas-docs/stable/user_guide/indexing.html#returning-a-view-versus-a-copy\n",
      "  df_labels_final.sort_values(by='cod_modelo_color', inplace=True)\n",
      "C:\\Users\\HP\\AppData\\Local\\Temp\\ipykernel_13916\\2522544436.py:7: SettingWithCopyWarning: \n",
      "A value is trying to be set on a copy of a slice from a DataFrame\n",
      "\n",
      "See the caveats in the documentation: https://pandas.pydata.org/pandas-docs/stable/user_guide/indexing.html#returning-a-view-versus-a-copy\n",
      "  df_labels_final.drop(columns='cod_modelo_color', inplace=True)\n"
     ]
    }
   ],
   "source": [
    "# We sort them equally\n",
    "df_features_final.sort_values(by='cod_modelo_color', inplace=True)\n",
    "df_labels_final.sort_values(by='cod_modelo_color', inplace=True)\n",
    "\n",
    "# We delete the column 'cod_modelo_color'\n",
    "df_features_final.drop(columns='cod_modelo_color', inplace=True)\n",
    "df_labels_final.drop(columns='cod_modelo_color', inplace=True)\n",
    "\n",
    "# We delete the feature cod_color\n",
    "df_features_final.drop(columns='cod_color', inplace=True)\n",
    "\n",
    "# We delete des_product_aggregated_family\n",
    "df_features_final.drop(columns='des_product_aggregated_family', inplace=True)\n",
    "\n",
    "save_path = \"../data\"\n",
    "\n",
    "# We save the data\n",
    "df_features_final.to_csv(os.path.join(save_path, \"x_full.csv\"), index=False)\n",
    "df_labels_final.to_csv(os.path.join(save_path, \"y_full.csv\"), index=False)"
   ]
  },
  {
   "cell_type": "code",
   "execution_count": 29,
   "metadata": {},
   "outputs": [],
   "source": [
    "# We ensure we havent lost any data]}')\n"
   ]
  },
  {
   "cell_type": "markdown",
   "metadata": {},
   "source": [
    "# Visulization"
   ]
  },
  {
   "cell_type": "markdown",
   "metadata": {},
   "source": []
  },
  {
   "cell_type": "code",
   "execution_count": 30,
   "metadata": {},
   "outputs": [],
   "source": [
    "image_name = \"81_1034451.jpg\""
   ]
  },
  {
   "cell_type": "markdown",
   "metadata": {},
   "source": [
    "# Let's extract y_train"
   ]
  },
  {
   "cell_type": "code",
   "execution_count": 31,
   "metadata": {},
   "outputs": [],
   "source": [
    "test_data = pd.read_csv(\"../data/archive/test_data.csv\")\n",
    "\n",
    "# we delete cod_color\n",
    "test_data.drop(columns='cod_color', inplace=True)\n",
    "\n",
    "# we delete des_product_aggregated_family\n",
    "test_data.drop(columns='des_product_aggregated_family', inplace=True)\n",
    "\n",
    "# we delete the column cod_modelo_color\n",
    "test_data.drop(columns='cod_modelo_color', inplace=True)\n",
    "\n",
    "# we delete test_id"
   ]
  },
  {
   "cell_type": "code",
   "execution_count": 32,
   "metadata": {},
   "outputs": [],
   "source": [
    "# we save the test data\n",
    "test_data.to_csv(os.path.join(save_path, \"x_test.csv\"), index=False)"
   ]
  },
  {
   "cell_type": "code",
   "execution_count": 33,
   "metadata": {},
   "outputs": [
    {
     "name": "stdout",
     "output_type": "stream",
     "text": [
      "['NEGRO' 'BLANCO' 'OFFWHITE' 'MALVA' 'NAVY' 'TEJANO MEDIO' 'BEIGE' 'VERDE'\n",
      " 'KHAKI' 'ROSA PASTEL' 'TEJANO SOFT' 'ROSA' 'TAUPE' 'TABACO'\n",
      " 'VERDE PASTEL' 'ROJO' 'MARRON' 'CRUDO' 'MISTERIO' 'ARENA' 'CALDERO'\n",
      " 'BURDEOS' 'FRESA' 'CELESTE' 'AZUL' 'AGUA' 'TERRACOTA' 'AMARILLO' 'MARINO'\n",
      " 'CAMEL' 'CHOCOLATE' 'GRIS MEDIO VIGORE' 'TEJANO OSCURO' 'FUCSIA'\n",
      " 'TEJANO CLARO' 'TEJANO GRIS' 'TOPO' 'ANTRACITA' 'DIRTY' 'PETROLEO'\n",
      " 'MORADO' 'INDIGO' 'DIRTY CLARO' 'TEJANO NEGRO' 'GRANATE' 'MUSGO' 'SALMON'\n",
      " 'ROSA PALO' 'AZUL NOCHE' 'GRIS' 'VAINILLA' 'ROSA LIGHT' 'PIEDRA'\n",
      " 'DIRTY OSCURO' 'CORAL' 'GRIS OSCURO VIGORE' 'OLIVA' 'PORCELANA' 'PLATA'\n",
      " 'TINTA' 'CHICLE' 'BLUEBLACK' 'HIELO' 'CARAMELO' 'LIMA' 'NARANJA' 'ORO'\n",
      " 'OCRE' 'ELECTRICO' 'BLEACH' 'TEJANO GRIS OSCURO' 'CUERO' 'DARK CAZA'\n",
      " 'VINO' 'GRIS CLARO VIGORE' 'LAVANDA' 'ASFALTO' 'AMARILLO PASTEL' 'NUDE'\n",
      " 'BOTELLA' 'MOSTAZA' 'PERLA' 'VIOLETA' 'CANELA' 'MANDARINA'\n",
      " 'TESTA DI MORO' 'VISON' 'CENIZA' 'NARANJA PASTEL' 'POMELO' 'LILA' 'MENTA'\n",
      " 'CEREZA' 'ROJO VALENTINO' 'COBRE' 'MARFIL' 'COFFEE' 'GERANIO'\n",
      " 'GREEN CAST' 'TURQUESA' 'MANZANA' 'ESMERALDA' 'ROSA FLUOR' 'GUNMETAL'\n",
      " 'PEACH' 'CAZA' nan 'ALBARICOQUE' 'COGNAC' 'NARANJA FLUOR' 'BLOOD'\n",
      " 'PURPURA']\n",
      "Index(['des_sex', 'des_age', 'des_line', 'des_fabric', 'des_product_category',\n",
      "       'des_product_family', 'des_product_type', 'des_filename', 'des_color'],\n",
      "      dtype='object')\n",
      "\n",
      "\n",
      "\n",
      "\n",
      "\n",
      "\n",
      "\n",
      "\n"
     ]
    }
   ],
   "source": [
    "def replace_missing_labels(train, test):\n",
    "    for column in train.columns:\n",
    "        if train[column].dtype == 'object' or train[column].dtype.name == 'category':\n",
    "            # Calcular la moda de la columna del train\n",
    "            most_frequent_label = train[column].mode()[0]\n",
    "            \n",
    "            # Encontrar valores únicos en cada conjunto\n",
    "            train_values = set(train[column].unique())\n",
    "            test_values = set(test[column].unique())\n",
    "            \n",
    "            # Identificar etiquetas del test que no están en el train\n",
    "            missing_labels = test_values - train_values\n",
    "            \n",
    "            # Reemplazar etiquetas faltantes en el test con la moda del train\n",
    "            test[column] = test[column].replace(list(missing_labels), most_frequent_label)\n",
    "    return test\n",
    "\n",
    "\n",
    "\n",
    "# Supongamos que train y test son tus DataFrames\n",
    "# train = pd.read_csv(\"train.csv\")\n",
    "# test = pd.read_csv(\"test.csv\")\n",
    "\n",
    "# Aplicar la función\n",
    "test_updated = replace_missing_labels(df_features_final, test_data)\n",
    "\n",
    "# We do a stip of the 'des_color' column in test\n",
    "\n",
    "et = df_features_final['des_color'].mode()[0]\n",
    "print(test_updated['des_color'].unique())\n",
    "\n",
    "test_updated['des_color'] = test_updated['des_color'].replace(test_updated['des_color'].unique()[-6], et)\n",
    "dd = df_features_final.columns\n",
    "print(dd)\n",
    "\n",
    "# We remove the columns that are not in the test data\n",
    "dd = [col for col in dd if col not in ['des_filename']]\n",
    "\n",
    "for col in dd:\n",
    "    a = df_features_final[col].unique()\n",
    "    b = test_updated[col].unique()\n",
    "    for category in b:\n",
    "        if category not in a:\n",
    "            print(f\" {col} has a new category: {category}\")\n",
    "    print(\"\")\n",
    "\n",
    "# Save the updated test data\n",
    "test_updated.to_csv(os.path.join(save_path, \"x_test.csv\"), index=False)"
   ]
  },
  {
   "cell_type": "markdown",
   "metadata": {},
   "source": [
    "# Let's see if the are any categories in test that do not appear in train"
   ]
  },
  {
   "cell_type": "code",
   "execution_count": 34,
   "metadata": {},
   "outputs": [
    {
     "name": "stdout",
     "output_type": "stream",
     "text": [
      "unique_categories_train: des_sex                     3\n",
      "des_age                     5\n",
      "des_line                    3\n",
      "des_fabric                  7\n",
      "des_product_category        5\n",
      "des_product_family         26\n",
      "des_product_type           47\n",
      "des_filename            61482\n",
      "des_color                 121\n",
      "dtype: int64\n",
      "unique_categories_testdes_filename                1\n",
      "des_color                 111\n",
      "des_sex                     3\n",
      "des_age                     5\n",
      "des_line                    3\n",
      "des_fabric                  7\n",
      "des_product_category        5\n",
      "des_product_family         26\n",
      "des_product_type           45\n",
      "attribute_name             11\n",
      "test_id                 71819\n",
      "dtype: int64\n"
     ]
    }
   ],
   "source": [
    "# Let's see if the are any categories in test that do not appear in train\n",
    "\n",
    "# Unique categories in train\n",
    "unique_categories_train = df_features_final.nunique()\n",
    "print(f'unique_categories_train: {unique_categories_train}')\n",
    "\n",
    "unique_categories_test = test_data.nunique()\n",
    "print(f'unique_categories_test' + str(unique_categories_test))"
   ]
  },
  {
   "cell_type": "code",
   "execution_count": 35,
   "metadata": {},
   "outputs": [
    {
     "data": {
      "text/plain": [
       "[]"
      ]
     },
     "execution_count": 35,
     "metadata": {},
     "output_type": "execute_result"
    }
   ],
   "source": [
    "# des color has 1 more category in test than in train\n",
    "# we will check which one is the new category\n",
    "categories_train = df_features_final['des_age'].unique()\n",
    "categories_test = test_data['des_age'].unique()\n",
    "\n",
    "new_category = [category for category in categories_test if category not in categories_train]\n",
    "new_category"
   ]
  },
  {
   "cell_type": "code",
   "execution_count": 36,
   "metadata": {},
   "outputs": [
    {
     "data": {
      "text/plain": [
       "array(['Adult', 'Kids', 'Baby', 'Newborn', 'Teen'], dtype=object)"
      ]
     },
     "execution_count": 36,
     "metadata": {},
     "output_type": "execute_result"
    }
   ],
   "source": [
    "categories_test"
   ]
  },
  {
   "cell_type": "code",
   "execution_count": 37,
   "metadata": {},
   "outputs": [
    {
     "name": "stdout",
     "output_type": "stream",
     "text": [
      "categories_train: ['NEGRO' 'MARRON' 'CAMEL' 'MARINO' 'KHAKI' 'COGNAC' 'NAVY' 'GRIS' 'TINTA'\n",
      " 'CRUDO' 'PETROLEO' 'BEIGE' 'PIEDRA' 'BLANCO' 'AZUL' 'ROSA PASTEL'\n",
      " 'GRIS MEDIO VIGORE' 'CELESTE' 'GRIS CLARO VIGORE' 'GRIS OSCURO VIGORE'\n",
      " 'TAUPE' 'VERDE' 'CAZA' 'AGUA' 'MOSTAZA' 'VERDE PASTEL' 'SALMON'\n",
      " 'OFFWHITE' 'TERRACOTA' 'GRANATE' 'ARENA' 'FUCSIA' 'ROJO' 'NARANJA' 'OCRE'\n",
      " 'TABACO' 'INDIGO' 'BURDEOS' 'TEJANO OSCURO' 'TEJANO NEGRO' 'TEJANO MEDIO'\n",
      " 'BLEACH' 'TEJANO CLARO' 'BLUEBLACK' 'GREEN CAST' 'TEJANO GRIS' 'ORO'\n",
      " 'TEJANO GRIS OSCURO' 'BOTELLA' 'NARANJA FLUOR' 'AMARILLO FLUOR'\n",
      " 'PORCELANA' 'LIMA' 'CEREZA' 'CUERO' 'DIRTY OSCURO' 'TEJANO SOFT'\n",
      " 'MANZANA' 'HIELO' 'NUDE' 'ANTRACITA' 'ROSA' 'AMARILLO' 'COFFEE' 'MUSGO'\n",
      " 'AMARILLO PASTEL' 'CALDERO' 'ROSA LIGHT' nan 'ESMERALDA' 'CHOCOLATE'\n",
      " 'PLATA' 'DARK CAZA' 'PERLA' 'POMELO' 'LILA' 'VINO' 'OLIVA' 'MALVA'\n",
      " 'CARAMELO' 'VISON' 'TOPO' 'ROSA PALO' 'ASFALTO' 'TEJANO GRIS CLARO'\n",
      " 'LAVANDA' 'AZUL NOCHE' 'ELECTRICO' 'CANELA' 'GERANIO' 'PEACH' 'COBRE'\n",
      " 'MORADO' 'CIRUELA' 'VIOLETA' 'CORAL' 'FRESA' 'BILLAR' 'CENIZA' 'CHICLE'\n",
      " 'ROJO VALENTINO' 'PRUSIA' 'MANDARINA' 'MENTA' 'TURQUESA' 'BLOOD' 'MARFIL'\n",
      " 'NARANJA PASTEL' 'CURRY' 'VAINILLA' 'TESTA DI MORO' 'PURPURA' 'PIMENTON'\n",
      " 'MISTERIO' 'ROSA FLUOR' 'BERMELLON' 'GUNMETAL' 'GROSELLA' 'DIRTY' 'MORA'\n",
      " 'DIRTY CLARO' 'ALBARICOQUE']\n"
     ]
    }
   ],
   "source": [
    "categories_train = df_features_final['des_color'].unique()\n",
    "print(f'categories_train: {categories_train}')"
   ]
  },
  {
   "cell_type": "code",
   "execution_count": 38,
   "metadata": {},
   "outputs": [],
   "source": [
    "new_categories = [category for category in categories_test if category not in categories_train]"
   ]
  },
  {
   "cell_type": "code",
   "execution_count": 39,
   "metadata": {},
   "outputs": [
    {
     "data": {
      "text/plain": [
       "['Adult', 'Kids', 'Baby', 'Newborn', 'Teen']"
      ]
     },
     "execution_count": 39,
     "metadata": {},
     "output_type": "execute_result"
    }
   ],
   "source": [
    "new_categories"
   ]
  },
  {
   "cell_type": "code",
   "execution_count": 40,
   "metadata": {},
   "outputs": [
    {
     "name": "stdout",
     "output_type": "stream",
     "text": [
      "Index(['des_sex', 'des_age', 'des_line', 'des_fabric', 'des_product_category',\n",
      "       'des_product_family', 'des_product_type', 'des_filename', 'des_color'],\n",
      "      dtype='object')\n",
      "\n",
      "\n",
      "\n",
      "\n",
      "\n",
      "\n",
      "\n",
      "\n"
     ]
    }
   ],
   "source": [
    "dd = df_features_final.columns\n",
    "print(dd)\n",
    "\n",
    "# We remove the columns that are not in the test data\n",
    "dd = [col for col in dd if col not in ['des_filename']]\n",
    "\n",
    "for col in dd:\n",
    "    a = df_features_final[col].unique()\n",
    "    b = test_data[col].unique()\n",
    "    for category in b:\n",
    "        if category not in a:\n",
    "            print(f\" {col} has a new category: {category}\")\n",
    "    print(\"\")\n"
   ]
  }
 ],
 "metadata": {
  "kernelspec": {
   "display_name": ".venv",
   "language": "python",
   "name": "python3"
  },
  "language_info": {
   "codemirror_mode": {
    "name": "ipython",
    "version": 3
   },
   "file_extension": ".py",
   "mimetype": "text/x-python",
   "name": "python",
   "nbconvert_exporter": "python",
   "pygments_lexer": "ipython3",
   "version": "3.12.4"
  }
 },
 "nbformat": 4,
 "nbformat_minor": 2
}
