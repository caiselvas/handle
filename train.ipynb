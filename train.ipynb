{
 "cells": [
  {
   "cell_type": "code",
   "execution_count": 1,
   "metadata": {},
   "outputs": [
    {
     "name": "stderr",
     "output_type": "stream",
     "text": [
      "c:\\Users\\HP\\Documents\\GitHub\\handle\\.venv\\Lib\\site-packages\\tqdm\\auto.py:21: TqdmWarning: IProgress not found. Please update jupyter and ipywidgets. See https://ipywidgets.readthedocs.io/en/stable/user_install.html\n",
      "  from .autonotebook import tqdm as notebook_tqdm\n"
     ]
    }
   ],
   "source": [
    "import torch\n",
    "import torch.nn as nn\n",
    "import torch.optim as optim\n",
    "from torch.utils.data import DataLoader, random_split\n",
    "import pickle\n",
    "\n",
    "from src.custom_dataset import CustomDataset\n",
    "from src.handler import Handler"
   ]
  },
  {
   "cell_type": "code",
   "execution_count": 2,
   "metadata": {},
   "outputs": [],
   "source": [
    "images_data_path = './data/archive/images/images'\n",
    "x_data_path = './data/x_full.csv'\n",
    "y_data_path = './data/y_full.csv'"
   ]
  },
  {
   "cell_type": "code",
   "execution_count": 3,
   "metadata": {},
   "outputs": [],
   "source": [
    "batch_size = 1\n",
    "num_epochs = 5\n",
    "checkpoint_interval = 200\n",
    "validation_check_steps = 15\n",
    "print_interval = 1"
   ]
  },
  {
   "cell_type": "code",
   "execution_count": 4,
   "metadata": {},
   "outputs": [],
   "source": [
    "validation_proportion = 0.07"
   ]
  },
  {
   "cell_type": "code",
   "execution_count": 5,
   "metadata": {},
   "outputs": [],
   "source": [
    "full_dataset = CustomDataset(x_path=x_data_path, y_path=y_data_path, image_folder_path=images_data_path)\n",
    "\n",
    "lenght_val = int(len(full_dataset) * validation_proportion)\n",
    "lenght_train = len(full_dataset) - lenght_val\n",
    "\n",
    "train_dataset, val_dataset = random_split(full_dataset, [lenght_train, lenght_val], generator=torch.Generator().manual_seed(42))\n",
    "\n",
    "train_loader = DataLoader(train_dataset, batch_size=batch_size, shuffle=True)\n",
    "val_loader = DataLoader(val_dataset, batch_size=batch_size, shuffle=True)"
   ]
  },
  {
   "cell_type": "code",
   "execution_count": 6,
   "metadata": {},
   "outputs": [],
   "source": [
    "x_num_categories_list = full_dataset.get_x_num_categories_list()\n",
    "y_num_categories_list = full_dataset.get_y_num_categories_list()\n",
    "label_encoders = full_dataset.get_label_encoders()\n",
    "onehot_encoders = full_dataset.get_onehot_encoders()"
   ]
  },
  {
   "cell_type": "code",
   "execution_count": 7,
   "metadata": {},
   "outputs": [],
   "source": [
    "with open('./data/x_num_categories_list.pkl', 'wb') as f:\n",
    "\tpickle.dump(x_num_categories_list, f)\n",
    "\n",
    "with open('./data/y_num_categories_list.pkl', 'wb') as f:\n",
    "\tpickle.dump(y_num_categories_list, f)\n",
    "\n",
    "with open('./data/label_encoders.pkl', 'wb') as f:\n",
    "\tpickle.dump(label_encoders, f)\n",
    "\n",
    "with open('./data/onehot_encoders.pkl', 'wb') as f:\n",
    "\tpickle.dump(onehot_encoders, f)"
   ]
  },
  {
   "cell_type": "code",
   "execution_count": 8,
   "metadata": {},
   "outputs": [],
   "source": [
    "initial_lr = 1e-3\n",
    "min_lr = 1e-5\n",
    "weight_decay_value = 1e-4\n",
    "\n",
    "criterion = nn.CrossEntropyLoss()\n",
    "model = Handler(x_num_categories_list=x_num_categories_list, y_num_categories_list=y_num_categories_list)\n",
    "optimizer = optim.AdamW(model.parameters(), lr=initial_lr, weight_decay=weight_decay_value)\n",
    "scheduler = optim.lr_scheduler.CosineAnnealingLR(optimizer, T_max=num_epochs, eta_min=min_lr)"
   ]
  },
  {
   "cell_type": "code",
   "execution_count": 9,
   "metadata": {},
   "outputs": [
    {
     "name": "stderr",
     "output_type": "stream",
     "text": [
      "It looks like you are trying to rescale already rescaled images. If the input images have pixel values between 0 and 1, set `do_rescale=False` to avoid rescaling them again.\n"
     ]
    },
    {
     "name": "stdout",
     "output_type": "stream",
     "text": [
      "Epoch [1/5], Batch [1/57179], Loss: 25.1550, Average Batch Accuracy: 0.00%\n",
      "Epoch [1/5], Batch [2/57179], Loss: 20.9896, Average Batch Accuracy: 36.36%\n",
      "Epoch [1/5], Batch [3/57179], Loss: 21.6796, Average Batch Accuracy: 42.42%\n",
      "Epoch [1/5], Batch [4/57179], Loss: 20.5011, Average Batch Accuracy: 47.73%\n",
      "Epoch [1/5], Batch [5/57179], Loss: 21.0188, Average Batch Accuracy: 49.09%\n",
      "Epoch [1/5], Batch [6/57179], Loss: 19.8189, Average Batch Accuracy: 51.52%\n",
      "Epoch [1/5], Batch [7/57179], Loss: 20.4172, Average Batch Accuracy: 53.25%\n",
      "Epoch [1/5], Batch [8/57179], Loss: 20.1537, Average Batch Accuracy: 54.55%\n",
      "Epoch [1/5], Batch [9/57179], Loss: 20.8617, Average Batch Accuracy: 55.56%\n",
      "Epoch [1/5], Batch [10/57179], Loss: 21.0657, Average Batch Accuracy: 55.45%\n",
      "Epoch [1/5], Batch [11/57179], Loss: 20.4776, Average Batch Accuracy: 56.20%\n",
      "Epoch [1/5], Batch [12/57179], Loss: 21.0545, Average Batch Accuracy: 56.06%\n",
      "Epoch [1/5], Batch [13/57179], Loss: 20.1195, Average Batch Accuracy: 56.64%\n",
      "Epoch [1/5], Batch [14/57179], Loss: 20.0762, Average Batch Accuracy: 57.14%\n",
      "Epoch [1/5], Batch [15/57179], Loss: 21.0641, Average Batch Accuracy: 56.97%\n"
     ]
    },
    {
     "ename": "KeyboardInterrupt",
     "evalue": "",
     "output_type": "error",
     "traceback": [
      "\u001b[1;31m---------------------------------------------------------------------------\u001b[0m",
      "\u001b[1;31mKeyboardInterrupt\u001b[0m                         Traceback (most recent call last)",
      "Cell \u001b[1;32mIn[9], line 74\u001b[0m\n\u001b[0;32m     72\u001b[0m val_total_samples \u001b[38;5;241m=\u001b[39m \u001b[38;5;241m0\u001b[39m\n\u001b[0;32m     73\u001b[0m \u001b[38;5;28;01mwith\u001b[39;00m torch\u001b[38;5;241m.\u001b[39mno_grad():\n\u001b[1;32m---> 74\u001b[0m \u001b[43m\t\u001b[49m\u001b[38;5;28;43;01mfor\u001b[39;49;00m\u001b[43m \u001b[49m\u001b[43mval_images\u001b[49m\u001b[43m,\u001b[49m\u001b[43m \u001b[49m\u001b[43mval_tabular_data\u001b[49m\u001b[43m,\u001b[49m\u001b[43m \u001b[49m\u001b[43mval_labels\u001b[49m\u001b[43m \u001b[49m\u001b[38;5;129;43;01min\u001b[39;49;00m\u001b[43m \u001b[49m\u001b[43mval_loader\u001b[49m\u001b[43m:\u001b[49m\n\u001b[0;32m     75\u001b[0m \u001b[43m\t\t\u001b[49m\u001b[43mval_images\u001b[49m\u001b[43m \u001b[49m\u001b[38;5;241;43m=\u001b[39;49m\u001b[43m \u001b[49m\u001b[43mval_images\u001b[49m\u001b[38;5;241;43m.\u001b[39;49m\u001b[43mto\u001b[49m\u001b[43m(\u001b[49m\u001b[43mdevice\u001b[49m\u001b[43m)\u001b[49m\n\u001b[0;32m     76\u001b[0m \u001b[43m\t\t\u001b[49m\u001b[43mval_tabular_data\u001b[49m\u001b[43m \u001b[49m\u001b[38;5;241;43m=\u001b[39;49m\u001b[43m \u001b[49m\u001b[43mval_tabular_data\u001b[49m\u001b[38;5;241;43m.\u001b[39;49m\u001b[43mto\u001b[49m\u001b[43m(\u001b[49m\u001b[43mdevice\u001b[49m\u001b[43m)\u001b[49m\n",
      "File \u001b[1;32mc:\\Users\\HP\\Documents\\GitHub\\handle\\.venv\\Lib\\site-packages\\torch\\utils\\data\\dataloader.py:701\u001b[0m, in \u001b[0;36m_BaseDataLoaderIter.__next__\u001b[1;34m(self)\u001b[0m\n\u001b[0;32m    698\u001b[0m \u001b[38;5;28;01mif\u001b[39;00m \u001b[38;5;28mself\u001b[39m\u001b[38;5;241m.\u001b[39m_sampler_iter \u001b[38;5;129;01mis\u001b[39;00m \u001b[38;5;28;01mNone\u001b[39;00m:\n\u001b[0;32m    699\u001b[0m     \u001b[38;5;66;03m# TODO(https://github.com/pytorch/pytorch/issues/76750)\u001b[39;00m\n\u001b[0;32m    700\u001b[0m     \u001b[38;5;28mself\u001b[39m\u001b[38;5;241m.\u001b[39m_reset()  \u001b[38;5;66;03m# type: ignore[call-arg]\u001b[39;00m\n\u001b[1;32m--> 701\u001b[0m data \u001b[38;5;241m=\u001b[39m \u001b[38;5;28;43mself\u001b[39;49m\u001b[38;5;241;43m.\u001b[39;49m\u001b[43m_next_data\u001b[49m\u001b[43m(\u001b[49m\u001b[43m)\u001b[49m\n\u001b[0;32m    702\u001b[0m \u001b[38;5;28mself\u001b[39m\u001b[38;5;241m.\u001b[39m_num_yielded \u001b[38;5;241m+\u001b[39m\u001b[38;5;241m=\u001b[39m \u001b[38;5;241m1\u001b[39m\n\u001b[0;32m    703\u001b[0m \u001b[38;5;28;01mif\u001b[39;00m (\n\u001b[0;32m    704\u001b[0m     \u001b[38;5;28mself\u001b[39m\u001b[38;5;241m.\u001b[39m_dataset_kind \u001b[38;5;241m==\u001b[39m _DatasetKind\u001b[38;5;241m.\u001b[39mIterable\n\u001b[0;32m    705\u001b[0m     \u001b[38;5;129;01mand\u001b[39;00m \u001b[38;5;28mself\u001b[39m\u001b[38;5;241m.\u001b[39m_IterableDataset_len_called \u001b[38;5;129;01mis\u001b[39;00m \u001b[38;5;129;01mnot\u001b[39;00m \u001b[38;5;28;01mNone\u001b[39;00m\n\u001b[0;32m    706\u001b[0m     \u001b[38;5;129;01mand\u001b[39;00m \u001b[38;5;28mself\u001b[39m\u001b[38;5;241m.\u001b[39m_num_yielded \u001b[38;5;241m>\u001b[39m \u001b[38;5;28mself\u001b[39m\u001b[38;5;241m.\u001b[39m_IterableDataset_len_called\n\u001b[0;32m    707\u001b[0m ):\n",
      "File \u001b[1;32mc:\\Users\\HP\\Documents\\GitHub\\handle\\.venv\\Lib\\site-packages\\torch\\utils\\data\\dataloader.py:757\u001b[0m, in \u001b[0;36m_SingleProcessDataLoaderIter._next_data\u001b[1;34m(self)\u001b[0m\n\u001b[0;32m    755\u001b[0m \u001b[38;5;28;01mdef\u001b[39;00m \u001b[38;5;21m_next_data\u001b[39m(\u001b[38;5;28mself\u001b[39m):\n\u001b[0;32m    756\u001b[0m     index \u001b[38;5;241m=\u001b[39m \u001b[38;5;28mself\u001b[39m\u001b[38;5;241m.\u001b[39m_next_index()  \u001b[38;5;66;03m# may raise StopIteration\u001b[39;00m\n\u001b[1;32m--> 757\u001b[0m     data \u001b[38;5;241m=\u001b[39m \u001b[38;5;28;43mself\u001b[39;49m\u001b[38;5;241;43m.\u001b[39;49m\u001b[43m_dataset_fetcher\u001b[49m\u001b[38;5;241;43m.\u001b[39;49m\u001b[43mfetch\u001b[49m\u001b[43m(\u001b[49m\u001b[43mindex\u001b[49m\u001b[43m)\u001b[49m  \u001b[38;5;66;03m# may raise StopIteration\u001b[39;00m\n\u001b[0;32m    758\u001b[0m     \u001b[38;5;28;01mif\u001b[39;00m \u001b[38;5;28mself\u001b[39m\u001b[38;5;241m.\u001b[39m_pin_memory:\n\u001b[0;32m    759\u001b[0m         data \u001b[38;5;241m=\u001b[39m _utils\u001b[38;5;241m.\u001b[39mpin_memory\u001b[38;5;241m.\u001b[39mpin_memory(data, \u001b[38;5;28mself\u001b[39m\u001b[38;5;241m.\u001b[39m_pin_memory_device)\n",
      "File \u001b[1;32mc:\\Users\\HP\\Documents\\GitHub\\handle\\.venv\\Lib\\site-packages\\torch\\utils\\data\\_utils\\fetch.py:50\u001b[0m, in \u001b[0;36m_MapDatasetFetcher.fetch\u001b[1;34m(self, possibly_batched_index)\u001b[0m\n\u001b[0;32m     48\u001b[0m \u001b[38;5;28;01mif\u001b[39;00m \u001b[38;5;28mself\u001b[39m\u001b[38;5;241m.\u001b[39mauto_collation:\n\u001b[0;32m     49\u001b[0m     \u001b[38;5;28;01mif\u001b[39;00m \u001b[38;5;28mhasattr\u001b[39m(\u001b[38;5;28mself\u001b[39m\u001b[38;5;241m.\u001b[39mdataset, \u001b[38;5;124m\"\u001b[39m\u001b[38;5;124m__getitems__\u001b[39m\u001b[38;5;124m\"\u001b[39m) \u001b[38;5;129;01mand\u001b[39;00m \u001b[38;5;28mself\u001b[39m\u001b[38;5;241m.\u001b[39mdataset\u001b[38;5;241m.\u001b[39m__getitems__:\n\u001b[1;32m---> 50\u001b[0m         data \u001b[38;5;241m=\u001b[39m \u001b[38;5;28;43mself\u001b[39;49m\u001b[38;5;241;43m.\u001b[39;49m\u001b[43mdataset\u001b[49m\u001b[38;5;241;43m.\u001b[39;49m\u001b[43m__getitems__\u001b[49m\u001b[43m(\u001b[49m\u001b[43mpossibly_batched_index\u001b[49m\u001b[43m)\u001b[49m\n\u001b[0;32m     51\u001b[0m     \u001b[38;5;28;01melse\u001b[39;00m:\n\u001b[0;32m     52\u001b[0m         data \u001b[38;5;241m=\u001b[39m [\u001b[38;5;28mself\u001b[39m\u001b[38;5;241m.\u001b[39mdataset[idx] \u001b[38;5;28;01mfor\u001b[39;00m idx \u001b[38;5;129;01min\u001b[39;00m possibly_batched_index]\n",
      "File \u001b[1;32mc:\\Users\\HP\\Documents\\GitHub\\handle\\.venv\\Lib\\site-packages\\torch\\utils\\data\\dataset.py:420\u001b[0m, in \u001b[0;36mSubset.__getitems__\u001b[1;34m(self, indices)\u001b[0m\n\u001b[0;32m    418\u001b[0m     \u001b[38;5;28;01mreturn\u001b[39;00m \u001b[38;5;28mself\u001b[39m\u001b[38;5;241m.\u001b[39mdataset\u001b[38;5;241m.\u001b[39m__getitems__([\u001b[38;5;28mself\u001b[39m\u001b[38;5;241m.\u001b[39mindices[idx] \u001b[38;5;28;01mfor\u001b[39;00m idx \u001b[38;5;129;01min\u001b[39;00m indices])  \u001b[38;5;66;03m# type: ignore[attr-defined]\u001b[39;00m\n\u001b[0;32m    419\u001b[0m \u001b[38;5;28;01melse\u001b[39;00m:\n\u001b[1;32m--> 420\u001b[0m     \u001b[38;5;28;01mreturn\u001b[39;00m [\u001b[38;5;28;43mself\u001b[39;49m\u001b[38;5;241;43m.\u001b[39;49m\u001b[43mdataset\u001b[49m\u001b[43m[\u001b[49m\u001b[38;5;28;43mself\u001b[39;49m\u001b[38;5;241;43m.\u001b[39;49m\u001b[43mindices\u001b[49m\u001b[43m[\u001b[49m\u001b[43midx\u001b[49m\u001b[43m]\u001b[49m\u001b[43m]\u001b[49m \u001b[38;5;28;01mfor\u001b[39;00m idx \u001b[38;5;129;01min\u001b[39;00m indices]\n",
      "File \u001b[1;32mc:\\Users\\HP\\Documents\\GitHub\\handle\\src\\custom_dataset.py:60\u001b[0m, in \u001b[0;36mCustomDataset.__getitem__\u001b[1;34m(self, idx)\u001b[0m\n\u001b[0;32m     58\u001b[0m \u001b[38;5;28;01mdef\u001b[39;00m \u001b[38;5;21m__getitem__\u001b[39m(\u001b[38;5;28mself\u001b[39m, idx):\n\u001b[0;32m     59\u001b[0m \timg_path \u001b[38;5;241m=\u001b[39m \u001b[38;5;124mf\u001b[39m\u001b[38;5;124m\"\u001b[39m\u001b[38;5;132;01m{\u001b[39;00m\u001b[38;5;28mself\u001b[39m\u001b[38;5;241m.\u001b[39mimage_folder_path\u001b[38;5;132;01m}\u001b[39;00m\u001b[38;5;124m/\u001b[39m\u001b[38;5;132;01m{\u001b[39;00m\u001b[38;5;28mself\u001b[39m\u001b[38;5;241m.\u001b[39mimage_names[idx]\u001b[38;5;132;01m}\u001b[39;00m\u001b[38;5;124m\"\u001b[39m\n\u001b[1;32m---> 60\u001b[0m \timage \u001b[38;5;241m=\u001b[39m \u001b[43mImage\u001b[49m\u001b[38;5;241;43m.\u001b[39;49m\u001b[43mopen\u001b[49m\u001b[43m(\u001b[49m\u001b[43mimg_path\u001b[49m\u001b[43m)\u001b[49m\u001b[38;5;241m.\u001b[39mconvert(\u001b[38;5;124m\"\u001b[39m\u001b[38;5;124mRGB\u001b[39m\u001b[38;5;124m\"\u001b[39m)\n\u001b[0;32m     62\u001b[0m \t\u001b[38;5;28;01mif\u001b[39;00m \u001b[38;5;28mself\u001b[39m\u001b[38;5;241m.\u001b[39mtransform \u001b[38;5;129;01mis\u001b[39;00m \u001b[38;5;129;01mnot\u001b[39;00m \u001b[38;5;28;01mNone\u001b[39;00m:\n\u001b[0;32m     63\u001b[0m \t\timage \u001b[38;5;241m=\u001b[39m \u001b[38;5;28mself\u001b[39m\u001b[38;5;241m.\u001b[39mtransform(image)\n",
      "File \u001b[1;32mc:\\Users\\HP\\Documents\\GitHub\\handle\\.venv\\Lib\\site-packages\\PIL\\Image.py:3469\u001b[0m, in \u001b[0;36mopen\u001b[1;34m(fp, mode, formats)\u001b[0m\n\u001b[0;32m   3466\u001b[0m     filename \u001b[38;5;241m=\u001b[39m os\u001b[38;5;241m.\u001b[39mpath\u001b[38;5;241m.\u001b[39mrealpath(os\u001b[38;5;241m.\u001b[39mfspath(fp))\n\u001b[0;32m   3468\u001b[0m \u001b[38;5;28;01mif\u001b[39;00m filename:\n\u001b[1;32m-> 3469\u001b[0m     fp \u001b[38;5;241m=\u001b[39m \u001b[43mbuiltins\u001b[49m\u001b[38;5;241;43m.\u001b[39;49m\u001b[43mopen\u001b[49m\u001b[43m(\u001b[49m\u001b[43mfilename\u001b[49m\u001b[43m,\u001b[49m\u001b[43m \u001b[49m\u001b[38;5;124;43m\"\u001b[39;49m\u001b[38;5;124;43mrb\u001b[39;49m\u001b[38;5;124;43m\"\u001b[39;49m\u001b[43m)\u001b[49m\n\u001b[0;32m   3470\u001b[0m     exclusive_fp \u001b[38;5;241m=\u001b[39m \u001b[38;5;28;01mTrue\u001b[39;00m\n\u001b[0;32m   3471\u001b[0m \u001b[38;5;28;01melse\u001b[39;00m:\n",
      "\u001b[1;31mKeyboardInterrupt\u001b[0m: "
     ]
    }
   ],
   "source": [
    "device = torch.device('cuda' if torch.cuda.is_available() else 'cpu')\n",
    "model.to(device)\n",
    "\n",
    "num_tasks = len(y_num_categories_list)\n",
    "best_accuracy = 0.0\n",
    "best_weights = None\n",
    "\n",
    "for epoch in range(num_epochs):\n",
    "\tmodel.train()\n",
    "\trunning_loss = 0.0\n",
    "\tcorrect_predictions = [0] * num_tasks  # List to store correct predictions per task\n",
    "\ttotal_samples = 0\n",
    "\t\n",
    "\t# Training phase\n",
    "\tfor batch_idx, (images, tabular_data, labels) in enumerate(train_loader):\n",
    "\t\t# Move data to GPU if available\n",
    "\t\timages = images.to(device)\n",
    "\t\ttabular_data = tabular_data.to(device)\n",
    "\t\tlabels = labels.to(device)  # Shape: [batch_size, total_label_length]\n",
    "\n",
    "\t\t# Zero the gradients\n",
    "\t\toptimizer.zero_grad()\n",
    "\t\t\n",
    "\t\t# Forward pass\n",
    "\t\toutputs_basic = model(images, tabular_data)  # List of outputs per task\n",
    "\n",
    "\t\t# Partition labels into labels_list using y_num_categories_list\n",
    "\t\tlabels_list = []\n",
    "\t\tstart_idx = 0\n",
    "\t\tfor num_categories in y_num_categories_list:\n",
    "\t\t\tend_idx = start_idx + num_categories\n",
    "\t\t\t# Extract one-hot labels for this task\n",
    "\t\t\ttask_labels_one_hot = labels[:, start_idx:end_idx]\n",
    "\t\t\t# Convert one-hot labels to class indices\n",
    "\t\t\ttask_labels_indices = torch.argmax(task_labels_one_hot, dim=1)\n",
    "\t\t\tlabels_list.append(task_labels_indices)\n",
    "\t\t\tstart_idx = end_idx\n",
    "\t\t\n",
    "\t\t# Compute loss per task\n",
    "\t\tlosses = []\n",
    "\t\tfor output, label in zip(outputs_basic, labels_list):\n",
    "\t\t\tloss = criterion(output, label)\n",
    "\t\t\tlosses.append(loss)\n",
    "\t\ttotal_loss = sum(losses)\n",
    "\n",
    "\t\t# Backward pass and optimize\n",
    "\t\ttotal_loss.backward()\n",
    "\t\toptimizer.step()\n",
    "\n",
    "\t\t# Update running loss\n",
    "\t\trunning_loss += total_loss.item()\n",
    "\t\ttotal_samples += labels.size(0)\n",
    "\n",
    "\t\t# Calculate accuracy per task\n",
    "\t\tfor i, (output, label) in enumerate(zip(outputs_basic, labels_list)):\n",
    "\t\t\t_, predicted = torch.max(output, dim=1)\n",
    "\t\t\tcorrect = (predicted == label).sum().item()\n",
    "\t\t\tcorrect_predictions[i] += correct\n",
    "\n",
    "\t\t# Print training stats every print_interval batches\n",
    "\t\tif (batch_idx + 1) % print_interval == 0:\n",
    "\t\t\tbatch_accuracy = [100 * correct_predictions[i] / total_samples for i in range(num_tasks)]\n",
    "\t\t\tavg_accuracy = sum(batch_accuracy) / num_tasks\n",
    "\t\t\tprint(f\"Epoch [{epoch+1}/{num_epochs}], Batch [{batch_idx+1}/{len(train_loader)}], \"\n",
    "\t\t\t\t  f\"Loss: {total_loss.item():.4f}, Average Batch Accuracy: {avg_accuracy:.2f}%\")\n",
    "\n",
    "\t\t# Validation evaluation every validation_check_steps steps\n",
    "\t\tif (batch_idx + 1) % validation_check_steps == 0:\n",
    "\t\t\tmodel.eval()\n",
    "\t\t\tval_loss = 0.0\n",
    "\t\t\tval_correct_predictions = [0] * num_tasks\n",
    "\t\t\tval_total_samples = 0\n",
    "\t\t\twith torch.no_grad():\n",
    "\t\t\t\tfor val_images, val_tabular_data, val_labels in val_loader:\n",
    "\t\t\t\t\tval_images = val_images.to(device)\n",
    "\t\t\t\t\tval_tabular_data = val_tabular_data.to(device)\n",
    "\t\t\t\t\tval_labels = val_labels.to(device)  # Shape: [batch_size, total_label_length]\n",
    "\n",
    "\t\t\t\t\t# Forward pass\n",
    "\t\t\t\t\tval_outputs_basic = model(val_images, val_tabular_data)\n",
    "\n",
    "\t\t\t\t\t# Partition labels\n",
    "\t\t\t\t\tval_labels_list = []\n",
    "\t\t\t\t\tstart_idx = 0\n",
    "\t\t\t\t\tfor num_categories in y_num_categories_list:\n",
    "\t\t\t\t\t\tend_idx = start_idx + num_categories\n",
    "\t\t\t\t\t\ttask_labels_one_hot = val_labels[:, start_idx:end_idx]\n",
    "\t\t\t\t\t\t# Convert one-hot labels to class indices\n",
    "\t\t\t\t\t\ttask_labels_indices = torch.argmax(task_labels_one_hot, dim=1)\n",
    "\t\t\t\t\t\tval_labels_list.append(task_labels_indices)\n",
    "\t\t\t\t\t\tstart_idx = end_idx\n",
    "\n",
    "\t\t\t\t\t# Compute loss per task\n",
    "\t\t\t\t\tval_losses = []\n",
    "\t\t\t\t\tfor val_output, val_label in zip(val_outputs_basic, val_labels_list):\n",
    "\t\t\t\t\t\tloss = criterion(val_output, val_label)\n",
    "\t\t\t\t\t\tval_losses.append(loss)\n",
    "\t\t\t\t\tval_total_loss = sum(val_losses)\n",
    "\t\t\t\t\tval_loss += val_total_loss.item()\n",
    "\t\t\t\t\tval_total_samples += val_labels.size(0)\n",
    "\n",
    "\t\t\t\t\t# Calculate accuracy per task\n",
    "\t\t\t\t\tfor i, (val_output, val_label) in enumerate(zip(val_outputs_basic, val_labels_list)):\n",
    "\t\t\t\t\t\t_, val_predicted = torch.max(val_output, dim=1)\n",
    "\t\t\t\t\t\tcorrect = (val_predicted == val_label).sum().item()\n",
    "\t\t\t\t\t\tval_correct_predictions[i] += correct\n",
    "\n",
    "\t\t\t# Average validation loss and accuracy\n",
    "\t\t\tval_loss /= len(val_loader)\n",
    "\t\t\tval_accuracy = [100 * val_correct_predictions[i] / val_total_samples for i in range(num_tasks)]\n",
    "\t\t\tavg_val_accuracy = sum(val_accuracy) / num_tasks\n",
    "\t\t\tprint(f\"Validation Loss: {val_loss:.4f}, Average Validation Accuracy: {avg_val_accuracy:.2f}%\")\n",
    "\n",
    "\t\t\t# Save the best model weights based on validation accuracy\n",
    "\t\t\tif avg_val_accuracy > best_accuracy:\n",
    "\t\t\t\tbest_accuracy = avg_val_accuracy\n",
    "\t\t\t\tbest_weights = model.state_dict().copy()\n",
    "\t\t\t\ttorch.save(best_weights, './models/best_model.pth')\n",
    "\t\t\t\tprint(\"New best model saved as './models/best_model.pth'\")\n",
    "\t\t\tmodel.train()  # Return to training mode\n",
    "\n",
    "\t# Epoch-level loss and accuracy\n",
    "\tepoch_loss = running_loss / len(train_loader)\n",
    "\tepoch_accuracy = [100 * correct_predictions[i] / total_samples for i in range(num_tasks)]\n",
    "\tavg_epoch_accuracy = sum(epoch_accuracy) / num_tasks\n",
    "\tprint(f\"Epoch {epoch+1}/{num_epochs} completed: Loss: {epoch_loss:.4f}, Average Accuracy: {avg_epoch_accuracy:.2f}%\")\n",
    "\t\n",
    "\t# Update the scheduler for learning rate decay\n",
    "\tscheduler.step()\n",
    "\n",
    "# Save the final model weights\n",
    "torch.save(model.state_dict(), './models/final_model.pth')\n",
    "print(\"Final model saved as './models/final_model.pth'\")\n",
    "\n",
    "# Ensure best weights are also saved\n",
    "if best_weights is not None:\n",
    "\ttorch.save(best_weights, './models/best_model.pth')\n",
    "\tprint(\"Best model saved as './models/best_model.pth'\")"
   ]
  }
 ],
 "metadata": {
  "kernelspec": {
   "display_name": ".venv",
   "language": "python",
   "name": "python3"
  },
  "language_info": {
   "codemirror_mode": {
    "name": "ipython",
    "version": 3
   },
   "file_extension": ".py",
   "mimetype": "text/x-python",
   "name": "python",
   "nbconvert_exporter": "python",
   "pygments_lexer": "ipython3",
   "version": "3.12.4"
  }
 },
 "nbformat": 4,
 "nbformat_minor": 2
}
