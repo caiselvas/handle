{
 "cells": [
  {
   "cell_type": "code",
   "execution_count": 1,
   "metadata": {},
   "outputs": [
    {
     "name": "stdout",
     "output_type": "stream",
     "text": [
      "HINT: You are attempting to install a package literally named \"requirements.txt\" (which cannot exist). Consider using the '-r' flag to install the packages listed in requirements.txt\n"
     ]
    },
    {
     "name": "stderr",
     "output_type": "stream",
     "text": [
      "ERROR: Could not find a version that satisfies the requirement requirements.txt (from versions: none)\n",
      "ERROR: No matching distribution found for requirements.txt\n"
     ]
    }
   ],
   "source": [
    "!pip install requirements.txt"
   ]
  },
  {
   "cell_type": "code",
   "execution_count": 2,
   "metadata": {},
   "outputs": [
    {
     "name": "stdout",
     "output_type": "stream",
     "text": [
      "Requirement already satisfied: pandas in c:\\users\\hp\\documents\\github\\handle\\.venv\\lib\\site-packages (2.2.3)\n",
      "Requirement already satisfied: transformers in c:\\users\\hp\\documents\\github\\handle\\.venv\\lib\\site-packages (4.46.2)\n",
      "Requirement already satisfied: numpy>=1.26.0 in c:\\users\\hp\\documents\\github\\handle\\.venv\\lib\\site-packages (from pandas) (2.1.3)\n",
      "Requirement already satisfied: python-dateutil>=2.8.2 in c:\\users\\hp\\documents\\github\\handle\\.venv\\lib\\site-packages (from pandas) (2.9.0.post0)\n",
      "Requirement already satisfied: pytz>=2020.1 in c:\\users\\hp\\documents\\github\\handle\\.venv\\lib\\site-packages (from pandas) (2024.2)\n",
      "Requirement already satisfied: tzdata>=2022.7 in c:\\users\\hp\\documents\\github\\handle\\.venv\\lib\\site-packages (from pandas) (2024.2)\n",
      "Requirement already satisfied: filelock in c:\\users\\hp\\documents\\github\\handle\\.venv\\lib\\site-packages (from transformers) (3.16.1)\n",
      "Requirement already satisfied: huggingface-hub<1.0,>=0.23.2 in c:\\users\\hp\\documents\\github\\handle\\.venv\\lib\\site-packages (from transformers) (0.26.2)\n",
      "Requirement already satisfied: packaging>=20.0 in c:\\users\\hp\\documents\\github\\handle\\.venv\\lib\\site-packages (from transformers) (24.2)\n",
      "Requirement already satisfied: pyyaml>=5.1 in c:\\users\\hp\\documents\\github\\handle\\.venv\\lib\\site-packages (from transformers) (6.0.2)\n",
      "Requirement already satisfied: regex!=2019.12.17 in c:\\users\\hp\\documents\\github\\handle\\.venv\\lib\\site-packages (from transformers) (2024.11.6)\n",
      "Requirement already satisfied: requests in c:\\users\\hp\\documents\\github\\handle\\.venv\\lib\\site-packages (from transformers) (2.32.3)\n",
      "Requirement already satisfied: safetensors>=0.4.1 in c:\\users\\hp\\documents\\github\\handle\\.venv\\lib\\site-packages (from transformers) (0.4.5)\n",
      "Requirement already satisfied: tokenizers<0.21,>=0.20 in c:\\users\\hp\\documents\\github\\handle\\.venv\\lib\\site-packages (from transformers) (0.20.3)\n",
      "Requirement already satisfied: tqdm>=4.27 in c:\\users\\hp\\documents\\github\\handle\\.venv\\lib\\site-packages (from transformers) (4.67.0)\n",
      "Requirement already satisfied: fsspec>=2023.5.0 in c:\\users\\hp\\documents\\github\\handle\\.venv\\lib\\site-packages (from huggingface-hub<1.0,>=0.23.2->transformers) (2024.10.0)\n",
      "Requirement already satisfied: typing-extensions>=3.7.4.3 in c:\\users\\hp\\documents\\github\\handle\\.venv\\lib\\site-packages (from huggingface-hub<1.0,>=0.23.2->transformers) (4.12.2)\n",
      "Requirement already satisfied: six>=1.5 in c:\\users\\hp\\documents\\github\\handle\\.venv\\lib\\site-packages (from python-dateutil>=2.8.2->pandas) (1.16.0)\n",
      "Requirement already satisfied: colorama in c:\\users\\hp\\documents\\github\\handle\\.venv\\lib\\site-packages (from tqdm>=4.27->transformers) (0.4.6)\n",
      "Requirement already satisfied: charset-normalizer<4,>=2 in c:\\users\\hp\\documents\\github\\handle\\.venv\\lib\\site-packages (from requests->transformers) (3.4.0)\n",
      "Requirement already satisfied: idna<4,>=2.5 in c:\\users\\hp\\documents\\github\\handle\\.venv\\lib\\site-packages (from requests->transformers) (3.10)\n",
      "Requirement already satisfied: urllib3<3,>=1.21.1 in c:\\users\\hp\\documents\\github\\handle\\.venv\\lib\\site-packages (from requests->transformers) (2.2.3)\n",
      "Requirement already satisfied: certifi>=2017.4.17 in c:\\users\\hp\\documents\\github\\handle\\.venv\\lib\\site-packages (from requests->transformers) (2024.8.30)\n"
     ]
    }
   ],
   "source": [
    "!pip install pandas transformers"
   ]
  },
  {
   "cell_type": "code",
   "execution_count": 3,
   "metadata": {},
   "outputs": [],
   "source": [
    "import pandas as pd"
   ]
  },
  {
   "cell_type": "markdown",
   "metadata": {},
   "source": [
    "# Attribute data"
   ]
  },
  {
   "cell_type": "code",
   "execution_count": 4,
   "metadata": {},
   "outputs": [],
   "source": [
    "attrib_data = pd.read_csv('../data/archive/attribute_data.csv')"
   ]
  },
  {
   "cell_type": "code",
   "execution_count": 5,
   "metadata": {},
   "outputs": [
    {
     "name": "stdout",
     "output_type": "stream",
     "text": [
      "  cod_modelo_color   attribute_name  cod_value des_value\n",
      "0       85_1202950  silhouette_type         37      Slim\n",
      "1       86_1217677  silhouette_type         27  Oversize\n",
      "2       84_1168477  silhouette_type         37      Slim\n",
      "3       82_1101897  silhouette_type         37      Slim\n",
      "4       84_1162605  silhouette_type         32     Recto\n",
      "cod_modelo_color    0\n",
      "attribute_name      0\n",
      "cod_value           0\n",
      "des_value           0\n",
      "dtype: int64\n",
      "<class 'pandas.core.frame.DataFrame'>\n",
      "RangeIndex: 151112 entries, 0 to 151111\n",
      "Data columns (total 4 columns):\n",
      " #   Column            Non-Null Count   Dtype \n",
      "---  ------            --------------   ----- \n",
      " 0   cod_modelo_color  151112 non-null  object\n",
      " 1   attribute_name    151112 non-null  object\n",
      " 2   cod_value         151112 non-null  int64 \n",
      " 3   des_value         151112 non-null  object\n",
      "dtypes: int64(1), object(3)\n",
      "memory usage: 4.6+ MB\n",
      "None\n"
     ]
    }
   ],
   "source": [
    "print(attrib_data.head())\n",
    "# We inspect if there are any missing values in the dataset\n",
    "print(attrib_data.isnull().sum())\n",
    "print(attrib_data.info())"
   ]
  },
  {
   "cell_type": "code",
   "execution_count": 6,
   "metadata": {},
   "outputs": [
    {
     "name": "stdout",
     "output_type": "stream",
     "text": [
      "0    silhouette_type\n",
      "1    silhouette_type\n",
      "2    silhouette_type\n",
      "3    silhouette_type\n",
      "4    silhouette_type\n",
      "Name: attribute_name, dtype: object\n",
      "33443\n"
     ]
    }
   ],
   "source": [
    "# We inspect the attribute name column\n",
    "print(attrib_data['attribute_name'].head()) \n",
    "\n",
    "# Determine how many unique attribute names there are\n",
    "unique_attrib_names = attrib_data['cod_modelo_color'].nunique()\n",
    "print(unique_attrib_names)"
   ]
  },
  {
   "cell_type": "markdown",
   "metadata": {},
   "source": [
    "# Images"
   ]
  },
  {
   "cell_type": "code",
   "execution_count": 7,
   "metadata": {},
   "outputs": [
    {
     "name": "stdout",
     "output_type": "stream",
     "text": [
      "68013\n"
     ]
    }
   ],
   "source": [
    "# Count how many images we have in the folder\n",
    "import os\n",
    "image_folder = '../data/archive/images/images'\n",
    "image_files = os.listdir(image_folder)\n",
    "counter = 0\n",
    "for img in image_files:\n",
    "    counter +=1\n",
    "print(counter)"
   ]
  },
  {
   "cell_type": "code",
   "execution_count": 8,
   "metadata": {},
   "outputs": [
    {
     "name": "stdout",
     "output_type": "stream",
     "text": [
      "(224, 160, 3)\n"
     ]
    }
   ],
   "source": [
    "# Chceck the resolution of the images\n",
    "from PIL import Image\n",
    "import numpy as np\n",
    "img = Image.open(image_folder + '/' + image_files[0])\n",
    "img_array = np.array(img)\n",
    "print(img_array.shape)\n"
   ]
  },
  {
   "cell_type": "code",
   "execution_count": 9,
   "metadata": {},
   "outputs": [],
   "source": [
    "y_train = pd.read_csv('../data/y_train.csv')"
   ]
  },
  {
   "cell_type": "code",
   "execution_count": 10,
   "metadata": {},
   "outputs": [
    {
     "name": "stdout",
     "output_type": "stream",
     "text": [
      "138\n"
     ]
    }
   ],
   "source": [
    "# We sum the unique values of each column\n",
    "counter = 0\n",
    "for column in y_train.columns:\n",
    "    counter += y_train[column].nunique()\n",
    "print(counter)"
   ]
  },
  {
   "cell_type": "code",
   "execution_count": 11,
   "metadata": {},
   "outputs": [
    {
     "name": "stdout",
     "output_type": "stream",
     "text": [
      "3\n",
      "5\n",
      "3\n",
      "7\n",
      "5\n",
      "26\n",
      "47\n",
      "61484\n",
      "121\n"
     ]
    }
   ],
   "source": [
    "# We inspect the number of unique values in each column of x_train\n",
    "x_train = pd.read_csv('../data/x_train.csv')\n",
    "for column in x_train.columns:\n",
    "    print(x_train[column].nunique())"
   ]
  }
 ],
 "metadata": {
  "kernelspec": {
   "display_name": ".venv",
   "language": "python",
   "name": "python3"
  },
  "language_info": {
   "codemirror_mode": {
    "name": "ipython",
    "version": 3
   },
   "file_extension": ".py",
   "mimetype": "text/x-python",
   "name": "python",
   "nbconvert_exporter": "python",
   "pygments_lexer": "ipython3",
   "version": "3.12.4"
  }
 },
 "nbformat": 4,
 "nbformat_minor": 2
}
