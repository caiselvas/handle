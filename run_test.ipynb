{
 "cells": [
  {
   "cell_type": "code",
   "execution_count": null,
   "metadata": {},
   "outputs": [],
   "source": [
    "import torch\n",
    "from torch.utils.data import DataLoader\n",
    "import pickle\n",
    "import pandas as pd\n",
    "\n",
    "from src.custom_inference_dataset import CustomInferenceDataset\n",
    "from src.handler import Handler"
   ]
  },
  {
   "cell_type": "code",
   "execution_count": 2,
   "metadata": {},
   "outputs": [],
   "source": [
    "with open('./data/x_num_categories_list.pkl', 'rb') as f:\n",
    "\tx_num_categories_list = pickle.load(f)\n",
    "\n",
    "with open('./data/y_num_categories_list.pkl', 'rb') as f:\n",
    "\ty_num_categories_list = pickle.load(f)\n",
    "\n",
    "with open('./data/label_encoders.pkl', 'rb') as f:\n",
    "\tlabel_encoders = pickle.load(f)\n",
    "\n",
    "with open('./data/onehot_encoders.pkl', 'rb') as f:\n",
    "\tone_hot_encoders = pickle.load(f)"
   ]
  },
  {
   "cell_type": "code",
   "execution_count": null,
   "metadata": {},
   "outputs": [],
   "source": [
    "device = torch.device('cuda' if torch.cuda.is_available() else 'cpu')\n",
    "\n",
    "model = Handler(x_num_categories_list=x_num_categories_list, y_num_categories_list=y_num_categories_list)\n",
    "\n",
    "model.load_state_dict(torch.load('./models/best_model.pth', map_location=device))\n",
    "\n",
    "model.eval()"
   ]
  },
  {
   "cell_type": "code",
   "execution_count": 4,
   "metadata": {},
   "outputs": [],
   "source": [
    "image_folder_path = './data/archive/images/images'\n",
    "x_test_file_path = './data/x_test_final.csv'\n",
    "y_data_file_path = './data/y_full.csv'"
   ]
  },
  {
   "cell_type": "code",
   "execution_count": 5,
   "metadata": {},
   "outputs": [],
   "source": [
    "y_labels = pd.read_csv(y_data_file_path).columns.tolist()"
   ]
  },
  {
   "cell_type": "code",
   "execution_count": 6,
   "metadata": {},
   "outputs": [],
   "source": [
    "test_dataset = CustomInferenceDataset(label_encoders=label_encoders, onehot_encoders=one_hot_encoders, x_test_path=x_test_file_path, image_folder_path=image_folder_path)\n",
    "test_loader = DataLoader(test_dataset, batch_size=1, shuffle=False)"
   ]
  },
  {
   "cell_type": "code",
   "execution_count": null,
   "metadata": {},
   "outputs": [],
   "source": [
    "# Inicializa una lista para almacenar los resultados\n",
    "results = []\n",
    "\n",
    "for i, (image, tabular_data, attribute_name, test_id) in enumerate(test_loader):\n",
    "\timage = image.to(device)\n",
    "\ttabular_data = tabular_data.to(device)\n",
    "\n",
    "\ttest_id = test_id[0]\n",
    "\tattribute_name = attribute_name[0]\n",
    "\n",
    "\twith torch.no_grad():\n",
    "\t\ttry:\n",
    "\t\t\tpred = model(image, tabular_data)\n",
    "\t\t\tprint(f\"Prediction {i}/{len(test_loader)}\")\n",
    "\n",
    "\t\texcept Exception as e:\n",
    "\t\t\tprint(f'Error predicting for test_id {test_id}. Error message: {e}')\n",
    "\t\t\tresults.append({'test_id': test_id, 'des_value': 'INVALID'})\n",
    "\t\t\tcontinue\n",
    "\n",
    "\t# Convertir predicciones a índices de clases\n",
    "\tpred_classes = [torch.argmax(attr_pred, dim=1).cpu().numpy() for attr_pred in pred]\n",
    "\n",
    "\t# Obtener el índice del atributo\n",
    "\tattr_index = y_labels.index(attribute_name)\n",
    "\n",
    "\t# Crear un vector one-hot para el índice predicho\n",
    "\tnum_categories = len(test_dataset.onehot_encoders[attribute_name].categories_[0])\n",
    "\tonehot_vector = [0] * num_categories\n",
    "\tonehot_vector[pred_classes[attr_index][0]] = 1\n",
    "\t\n",
    "\t# Decodifica el valor de la clase predicha\n",
    "\tpred_value = test_dataset.value_from_onehot_encoder(attribute_name, onehot_vector)\n",
    "\n",
    "\t# Agrega el resultado a la lista\n",
    "\tresults.append({'test_id': test_id, 'des_value': pred_value})\n",
    "\n",
    "# Convierte la lista de resultados en un DataFrame\n",
    "resulting_df = pd.DataFrame(results)\n",
    "\n",
    "# Guarda el DataFrame en un archivo CSV\n",
    "resulting_df.to_csv('./data/test_predictions.csv', index=False)\n"
   ]
  }
 ],
 "metadata": {
  "kernelspec": {
   "display_name": ".venv",
   "language": "python",
   "name": "python3"
  },
  "language_info": {
   "codemirror_mode": {
    "name": "ipython",
    "version": 3
   },
   "file_extension": ".py",
   "mimetype": "text/x-python",
   "name": "python",
   "nbconvert_exporter": "python",
   "pygments_lexer": "ipython3",
   "version": "3.11.2"
  }
 },
 "nbformat": 4,
 "nbformat_minor": 2
}
