{
 "cells": [
  {
   "cell_type": "code",
   "execution_count": 1,
   "metadata": {},
   "outputs": [
    {
     "name": "stderr",
     "output_type": "stream",
     "text": [
      "c:\\Users\\Cai Selvas Sala\\GIA_UPC\\Personal\\DatathonFME\\Datathon 2024\\handle\\.venv\\Lib\\site-packages\\tqdm\\auto.py:21: TqdmWarning: IProgress not found. Please update jupyter and ipywidgets. See https://ipywidgets.readthedocs.io/en/stable/user_install.html\n",
      "  from .autonotebook import tqdm as notebook_tqdm\n"
     ]
    }
   ],
   "source": [
    "import torch\n",
    "from torch.utils.data import DataLoader\n",
    "import pickle\n",
    "import pandas as pd\n",
    "\n",
    "from src.custom_inference_dataset import CustomInferenceDataset\n",
    "from src.handler import Handler"
   ]
  },
  {
   "cell_type": "code",
   "execution_count": 2,
   "metadata": {},
   "outputs": [],
   "source": [
    "with open('./data/x_num_categories_list.pkl', 'rb') as f:\n",
    "\tx_num_categories_list = pickle.load(f)\n",
    "\n",
    "with open('./data/y_num_categories_list.pkl', 'rb') as f:\n",
    "\ty_num_categories_list = pickle.load(f)\n",
    "\n",
    "with open('./data/label_encoders.pkl', 'rb') as f:\n",
    "\tlabel_encoders = pickle.load(f)\n",
    "\n",
    "with open('./data/onehot_encoders.pkl', 'rb') as f:\n",
    "\tone_hot_encoders = pickle.load(f)"
   ]
  },
  {
   "cell_type": "code",
   "execution_count": 6,
   "metadata": {},
   "outputs": [
    {
     "name": "stderr",
     "output_type": "stream",
     "text": [
      "C:\\Users\\Cai Selvas Sala\\AppData\\Local\\Temp\\ipykernel_24536\\414790742.py:5: FutureWarning: You are using `torch.load` with `weights_only=False` (the current default value), which uses the default pickle module implicitly. It is possible to construct malicious pickle data which will execute arbitrary code during unpickling (See https://github.com/pytorch/pytorch/blob/main/SECURITY.md#untrusted-models for more details). In a future release, the default value for `weights_only` will be flipped to `True`. This limits the functions that could be executed during unpickling. Arbitrary objects will no longer be allowed to be loaded via this mode unless they are explicitly allowlisted by the user via `torch.serialization.add_safe_globals`. We recommend you start setting `weights_only=True` for any use case where you don't have full control of the loaded file. Please open an issue on GitHub for any issues related to this experimental feature.\n",
      "  model.load_state_dict(torch.load('./models/best_model.pth', map_location=device))\n"
     ]
    },
    {
     "ename": "RuntimeError",
     "evalue": "Error(s) in loading state_dict for Handler:\n\tsize mismatch for tabular_encoder.embeddings.7.weight: copying a param with shape torch.Size([121, 1536]) from checkpoint, the shape in current model is torch.Size([122, 1536]).\n\tsize mismatch for classifier.output_layers.5.weight: copying a param with shape torch.Size([33, 1536]) from checkpoint, the shape in current model is torch.Size([34, 1536]).\n\tsize mismatch for classifier.output_layers.5.bias: copying a param with shape torch.Size([33]) from checkpoint, the shape in current model is torch.Size([34]).\n\tsize mismatch for classifier.output_layers.6.weight: copying a param with shape torch.Size([33, 1536]) from checkpoint, the shape in current model is torch.Size([34, 1536]).\n\tsize mismatch for classifier.output_layers.6.bias: copying a param with shape torch.Size([33]) from checkpoint, the shape in current model is torch.Size([34]).",
     "output_type": "error",
     "traceback": [
      "\u001b[1;31m---------------------------------------------------------------------------\u001b[0m",
      "\u001b[1;31mRuntimeError\u001b[0m                              Traceback (most recent call last)",
      "Cell \u001b[1;32mIn[6], line 5\u001b[0m\n\u001b[0;32m      1\u001b[0m device \u001b[38;5;241m=\u001b[39m torch\u001b[38;5;241m.\u001b[39mdevice(\u001b[38;5;124m'\u001b[39m\u001b[38;5;124mcuda\u001b[39m\u001b[38;5;124m'\u001b[39m \u001b[38;5;28;01mif\u001b[39;00m torch\u001b[38;5;241m.\u001b[39mcuda\u001b[38;5;241m.\u001b[39mis_available() \u001b[38;5;28;01melse\u001b[39;00m \u001b[38;5;124m'\u001b[39m\u001b[38;5;124mcpu\u001b[39m\u001b[38;5;124m'\u001b[39m)\n\u001b[0;32m      3\u001b[0m model \u001b[38;5;241m=\u001b[39m Handler(x_num_categories_list\u001b[38;5;241m=\u001b[39mx_num_categories_list, y_num_categories_list\u001b[38;5;241m=\u001b[39my_num_categories_list)\n\u001b[1;32m----> 5\u001b[0m \u001b[43mmodel\u001b[49m\u001b[38;5;241;43m.\u001b[39;49m\u001b[43mload_state_dict\u001b[49m\u001b[43m(\u001b[49m\u001b[43mtorch\u001b[49m\u001b[38;5;241;43m.\u001b[39;49m\u001b[43mload\u001b[49m\u001b[43m(\u001b[49m\u001b[38;5;124;43m'\u001b[39;49m\u001b[38;5;124;43m./models/best_model.pth\u001b[39;49m\u001b[38;5;124;43m'\u001b[39;49m\u001b[43m,\u001b[49m\u001b[43m \u001b[49m\u001b[43mmap_location\u001b[49m\u001b[38;5;241;43m=\u001b[39;49m\u001b[43mdevice\u001b[49m\u001b[43m)\u001b[49m\u001b[43m)\u001b[49m\n\u001b[0;32m      7\u001b[0m model\u001b[38;5;241m.\u001b[39meval()\n",
      "File \u001b[1;32mc:\\Users\\Cai Selvas Sala\\GIA_UPC\\Personal\\DatathonFME\\Datathon 2024\\handle\\.venv\\Lib\\site-packages\\torch\\nn\\modules\\module.py:2584\u001b[0m, in \u001b[0;36mModule.load_state_dict\u001b[1;34m(self, state_dict, strict, assign)\u001b[0m\n\u001b[0;32m   2576\u001b[0m         error_msgs\u001b[38;5;241m.\u001b[39minsert(\n\u001b[0;32m   2577\u001b[0m             \u001b[38;5;241m0\u001b[39m,\n\u001b[0;32m   2578\u001b[0m             \u001b[38;5;124m\"\u001b[39m\u001b[38;5;124mMissing key(s) in state_dict: \u001b[39m\u001b[38;5;132;01m{}\u001b[39;00m\u001b[38;5;124m. \u001b[39m\u001b[38;5;124m\"\u001b[39m\u001b[38;5;241m.\u001b[39mformat(\n\u001b[0;32m   2579\u001b[0m                 \u001b[38;5;124m\"\u001b[39m\u001b[38;5;124m, \u001b[39m\u001b[38;5;124m\"\u001b[39m\u001b[38;5;241m.\u001b[39mjoin(\u001b[38;5;124mf\u001b[39m\u001b[38;5;124m'\u001b[39m\u001b[38;5;124m\"\u001b[39m\u001b[38;5;132;01m{\u001b[39;00mk\u001b[38;5;132;01m}\u001b[39;00m\u001b[38;5;124m\"\u001b[39m\u001b[38;5;124m'\u001b[39m \u001b[38;5;28;01mfor\u001b[39;00m k \u001b[38;5;129;01min\u001b[39;00m missing_keys)\n\u001b[0;32m   2580\u001b[0m             ),\n\u001b[0;32m   2581\u001b[0m         )\n\u001b[0;32m   2583\u001b[0m \u001b[38;5;28;01mif\u001b[39;00m \u001b[38;5;28mlen\u001b[39m(error_msgs) \u001b[38;5;241m>\u001b[39m \u001b[38;5;241m0\u001b[39m:\n\u001b[1;32m-> 2584\u001b[0m     \u001b[38;5;28;01mraise\u001b[39;00m \u001b[38;5;167;01mRuntimeError\u001b[39;00m(\n\u001b[0;32m   2585\u001b[0m         \u001b[38;5;124m\"\u001b[39m\u001b[38;5;124mError(s) in loading state_dict for \u001b[39m\u001b[38;5;132;01m{}\u001b[39;00m\u001b[38;5;124m:\u001b[39m\u001b[38;5;130;01m\\n\u001b[39;00m\u001b[38;5;130;01m\\t\u001b[39;00m\u001b[38;5;132;01m{}\u001b[39;00m\u001b[38;5;124m\"\u001b[39m\u001b[38;5;241m.\u001b[39mformat(\n\u001b[0;32m   2586\u001b[0m             \u001b[38;5;28mself\u001b[39m\u001b[38;5;241m.\u001b[39m\u001b[38;5;18m__class__\u001b[39m\u001b[38;5;241m.\u001b[39m\u001b[38;5;18m__name__\u001b[39m, \u001b[38;5;124m\"\u001b[39m\u001b[38;5;130;01m\\n\u001b[39;00m\u001b[38;5;130;01m\\t\u001b[39;00m\u001b[38;5;124m\"\u001b[39m\u001b[38;5;241m.\u001b[39mjoin(error_msgs)\n\u001b[0;32m   2587\u001b[0m         )\n\u001b[0;32m   2588\u001b[0m     )\n\u001b[0;32m   2589\u001b[0m \u001b[38;5;28;01mreturn\u001b[39;00m _IncompatibleKeys(missing_keys, unexpected_keys)\n",
      "\u001b[1;31mRuntimeError\u001b[0m: Error(s) in loading state_dict for Handler:\n\tsize mismatch for tabular_encoder.embeddings.7.weight: copying a param with shape torch.Size([121, 1536]) from checkpoint, the shape in current model is torch.Size([122, 1536]).\n\tsize mismatch for classifier.output_layers.5.weight: copying a param with shape torch.Size([33, 1536]) from checkpoint, the shape in current model is torch.Size([34, 1536]).\n\tsize mismatch for classifier.output_layers.5.bias: copying a param with shape torch.Size([33]) from checkpoint, the shape in current model is torch.Size([34]).\n\tsize mismatch for classifier.output_layers.6.weight: copying a param with shape torch.Size([33, 1536]) from checkpoint, the shape in current model is torch.Size([34, 1536]).\n\tsize mismatch for classifier.output_layers.6.bias: copying a param with shape torch.Size([33]) from checkpoint, the shape in current model is torch.Size([34])."
     ]
    }
   ],
   "source": [
    "device = torch.device('cuda' if torch.cuda.is_available() else 'cpu')\n",
    "\n",
    "model = Handler(x_num_categories_list=x_num_categories_list, y_num_categories_list=y_num_categories_list)\n",
    "\n",
    "model.load_state_dict(torch.load('./models/best_model.pth', map_location=device))\n",
    "\n",
    "model.eval()"
   ]
  },
  {
   "cell_type": "code",
   "execution_count": null,
   "metadata": {},
   "outputs": [],
   "source": [
    "image_folder_path = './data/archive/images/images'\n",
    "x_test_file_path = './data/x_test.csv'\n",
    "y_data_file_path = './data/y_data.csv'"
   ]
  },
  {
   "cell_type": "code",
   "execution_count": null,
   "metadata": {},
   "outputs": [],
   "source": [
    "y_labels = pd.read_csv(y_data_file_path).columns.tolist()"
   ]
  },
  {
   "cell_type": "code",
   "execution_count": null,
   "metadata": {},
   "outputs": [],
   "source": [
    "test_dataset = CustomInferenceDataset(label_encoders=label_encoders, onehot_encoders=one_hot_encoders, x_test_path=x_test_file_path, image_folder_path=image_folder_path)\n",
    "test_loader = DataLoader(test_dataset, batch_size=1, shuffle=False)"
   ]
  },
  {
   "cell_type": "code",
   "execution_count": null,
   "metadata": {},
   "outputs": [],
   "source": [
    "resulting_df = pd.DataFrame(columns=['test_id', 'des_value'])\n",
    "\n",
    "for image, tabular_data, attribute_name, test_id in test_loader:\n",
    "\timage = image.to(device)\n",
    "\ttabular_data = tabular_data.to(device)\n",
    "\t\n",
    "\twith torch.no_grad():\n",
    "\t\ttry:\n",
    "\t\t\tpred = model(image, tabular_data)\n",
    "\t\texcept Exception as e:\n",
    "\t\t\tprint(f'Error predicting for test_id {test_id.item()}. Error message: {e}')\n",
    "\t\t\tresulting_df = resulting_df.append({'test_id': test_id.item(), 'des_value': 'INVALID'}, ignore_index=True)\n",
    "\t\t\tcontinue\n",
    "\n",
    "\t# Convert predictions to class indices for each attribute\n",
    "\tpred_classes = [torch.argmax(attr_pred, dim=1).item() for attr_pred in pred]\n",
    "\t\n",
    "\tpred_value = test_dataset.value_from_onehot_encoder(pred_classes[attribute_name], attribute_name)\n",
    "\n",
    "    resulting_df = resulting_df.append({'test_id': test_id.item(), 'des_value': pred_value}, ignore_index=True)\n",
    "\n",
    "# Guardar el DataFrame en un archivo CSV\n",
    "resulting_df.to_csv('./data/test_predictions.csv', index=False)"
   ]
  },
  {
   "cell_type": "code",
   "execution_count": null,
   "metadata": {},
   "outputs": [],
   "source": [
    "# Inicializa una lista para almacenar los resultados\n",
    "results = []\n",
    "\n",
    "for image, tabular_data, attribute_name, test_id in test_loader:\n",
    "    image = image.to(device)\n",
    "    tabular_data = tabular_data.to(device)\n",
    "\n",
    "    test_id = test_id[0]\n",
    "    attribute_name = attribute_name[0]\n",
    "\n",
    "    print(image.shape)\n",
    "    print(tabular_data.shape)\n",
    "\n",
    "    with torch.no_grad():\n",
    "        try:\n",
    "            pred = model(image, tabular_data)\n",
    "        except Exception as e:\n",
    "            print(f'Error predicting for test_id {test_id}. Error message: {e}')\n",
    "            results.append({'test_id': test_id, 'des_value': 'INVALID'})\n",
    "            continue\n",
    "\n",
    "    # # Convierte las predicciones a vectores one-hot (ceros en todas las posiciones excepto en la de mayor probabilidad)\n",
    "    # pred_classes = [torch.argmax(attr_pred, dim=1).cpu().numpy() for attr_pred in pred]\n",
    "\n",
    "    # attr_index = y_labels.index(attribute_name)\n",
    "\n",
    "    # print(attr_index)\n",
    "\n",
    "    # print(pred_classes)\n",
    "\n",
    "    # Convertir predicciones a índices de clases\n",
    "    pred_classes = [torch.argmax(attr_pred, dim=1).cpu().numpy() for attr_pred in pred]\n",
    "\n",
    "    # Obtener el índice del atributo\n",
    "    attr_index = y_labels.index(attribute_name)\n",
    "    print(attr_index)\n",
    "    print(pred_classes)\n",
    "\n",
    "    # Crear un vector one-hot para el índice predicho\n",
    "    num_categories = len(test_dataset.onehot_encoders[attribute_name].categories_[0])\n",
    "    onehot_vector = [0] * num_categories\n",
    "    onehot_vector[pred_classes[attr_index][0]] = 1\n",
    "\n",
    "    # Decodifica el valor de la clase predicha\n",
    "    pred_value = test_dataset.value_from_onehot_encoder(attribute_name, onehot_vector)\n",
    "\n",
    "    # Agrega el resultado a la lista\n",
    "    results.append({'test_id': test_id, 'des_value': pred_value})\n",
    "\n",
    "# Convierte la lista de resultados en un DataFrame\n",
    "resulting_df = pd.DataFrame(results)\n",
    "\n",
    "# Guarda el DataFrame en un archivo CSV\n",
    "resulting_df.to_csv('./data/test_predictions.csv', index=False)\n"
   ]
  }
 ],
 "metadata": {
  "kernelspec": {
   "display_name": ".venv",
   "language": "python",
   "name": "python3"
  },
  "language_info": {
   "codemirror_mode": {
    "name": "ipython",
    "version": 3
   },
   "file_extension": ".py",
   "mimetype": "text/x-python",
   "name": "python",
   "nbconvert_exporter": "python",
   "pygments_lexer": "ipython3",
   "version": "3.11.2"
  }
 },
 "nbformat": 4,
 "nbformat_minor": 2
}
